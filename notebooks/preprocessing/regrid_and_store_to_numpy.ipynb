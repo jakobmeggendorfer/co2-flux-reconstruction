{
 "cells": [
  {
   "cell_type": "code",
   "execution_count": 21,
   "id": "f6e6d9c2",
   "metadata": {},
   "outputs": [],
   "source": [
    "import os\n",
    "import pandas as pd\n",
    "import numpy as np\n",
    "from utils.mapping import mapDataframeToGridClosest\n",
    "from utils.global_co2 import getGlobalCo2ForYear"
   ]
  },
  {
   "cell_type": "code",
   "execution_count": 22,
   "id": "5f929aca",
   "metadata": {},
   "outputs": [],
   "source": [
    "# Specify these two varibales\n",
    "data_path = \"../../../../../../Volumes/T7Shield/test\"\n",
    "file_prefix = \"ORCA025.L46.LIM2vp.CFCSF6.MOPS.JRA.LP04-KLP002.hind_\"\n",
    "datset_id = \"exp1\""
   ]
  },
  {
   "cell_type": "code",
   "execution_count": 23,
   "id": "cca19807",
   "metadata": {},
   "outputs": [],
   "source": [
    "output_path = \"../../data/\" + datset_id\n",
    "\n",
    "features = ['SST', 'SAL', 'ice_frac', 'mixed_layer_depth', 'heat_flux_down', 'water_flux_up', 'stress_X', 'stress_Y', 'currents_X', 'currents_Y',\n",
    "            'month','tmask','year','nav_lat', 'nav_lon','global_co2']\n",
    "targets = ['fco2','fco2_pre','co2flux','co2flux_pre']\n",
    "\n",
    "def regrid_and_store(year, index):\n",
    "    input_file = os.path.join(data_path, f\"{file_prefix}{year}_df.pkl\")\n",
    "    df = pd.read_pickle(input_file)\n",
    "\n",
    "    df[\"year\"] = year\n",
    "    df[\"month\"] = df[\"time_counter\"].apply(lambda x: x.month)\n",
    "    df['global_co2'] = getGlobalCo2ForYear(year)\n",
    "    df = df[features+targets]\n",
    "\n",
    "    if df.isna().any().any():\n",
    "        print(\"contains NaN values\")\n",
    "        print(df.isna().sum())\n",
    "\n",
    "    os.makedirs(output_path, exist_ok=True)\n",
    "\n",
    "    for month in range(1, 13):\n",
    "        month_data = df.loc[(df['month'] == month)]\n",
    "\n",
    "        features_array = mapDataframeToGridClosest(month_data, features)\n",
    "        target_array = mapDataframeToGridClosest(month_data, targets)\n",
    "\n",
    "        np.save(os.path.join(output_path, f\"{index+month}_features.npy\"), features_array)\n",
    "        np.save(os.path.join(output_path, f\"{index+month}_targets.npy\"), target_array)"
   ]
  },
  {
   "cell_type": "code",
   "execution_count": null,
   "id": "db3508a2",
   "metadata": {},
   "outputs": [
    {
     "name": "stdout",
     "output_type": "stream",
     "text": [
      "1958\n"
     ]
    }
   ],
   "source": [
    "i = 0\n",
    "\n",
    "for year in range(1958, 1959):\n",
    "    print(year)\n",
    "    regrid_and_store(year, i)\n",
    "    i = i+12"
   ]
  }
 ],
 "metadata": {
  "kernelspec": {
   "display_name": "venv",
   "language": "python",
   "name": "python3"
  },
  "language_info": {
   "codemirror_mode": {
    "name": "ipython",
    "version": 3
   },
   "file_extension": ".py",
   "mimetype": "text/x-python",
   "name": "python",
   "nbconvert_exporter": "python",
   "pygments_lexer": "ipython3",
   "version": "3.11.10"
  }
 },
 "nbformat": 4,
 "nbformat_minor": 5
}
