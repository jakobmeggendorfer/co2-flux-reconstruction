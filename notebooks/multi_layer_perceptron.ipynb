{
 "cells": [
  {
   "cell_type": "code",
   "execution_count": 88,
   "metadata": {},
   "outputs": [],
   "source": [
    "import os\n",
    "import numpy as np\n",
    "import tensorflow as tf\n",
    "from sklearn.preprocessing import StandardScaler\n",
    "import matplotlib.pyplot as plt\n",
    "import pandas as pd\n",
    "from datetime import datetime\n",
    "from sklearn.metrics import mean_squared_error\n",
    "from sklearn.metrics import mean_absolute_error\n",
    "import shap\n",
    "from utils.plot_map import plot_feature_on_map\n",
    "import joblib"
   ]
  },
  {
   "cell_type": "code",
   "execution_count": 104,
   "metadata": {},
   "outputs": [],
   "source": [
    "data_path = \"../../../../../../../Volumes/T7 Shield/preprocessed_new_exp1_full\"\n",
    "# data_path = \"../../data/preprocessed_new\"\n",
    "\n",
    "timestamp = datetime.now().strftime('%Y-%m-%d_%H-%M')\n",
    "# for results,model and scaler\n",
    "folder_path = \"../plots/perceptron/flux/\" + timestamp\n",
    "os.makedirs(folder_path, exist_ok=True)"
   ]
  },
  {
   "cell_type": "code",
   "execution_count": null,
   "metadata": {},
   "outputs": [
    {
     "name": "stdout",
     "output_type": "stream",
     "text": [
      "Number of samples before filtering: 44007840\n",
      "Number of samples after filtering: 31138548\n"
     ]
    }
   ],
   "source": [
    "feature_files = [os.path.join(data_path, f\"{i}_features.npy\") for i in range(1, 733)]\n",
    "target_files = [os.path.join(data_path, f\"{i}_targets.npy\") for i in range(1, 733)]\n",
    "features_list = []\n",
    "targets_list = []\n",
    "\n",
    "for f_file, t_file in zip(feature_files, target_files):\n",
    "    features = np.load(f_file) \n",
    "    targets = np.load(t_file)  \n",
    "    features_flat = features.reshape(-1, features.shape[2])  \n",
    "    targets_flat = targets.reshape(-1, targets.shape[2])   \n",
    "    features_list.append(features_flat)\n",
    "    targets_list.append(targets_flat)\n",
    "\n",
    "features_array = np.concatenate(features_list, axis=0)  \n",
    "all_targets_array = np.concatenate(targets_list, axis=0)   \n",
    "\n",
    "targets_array = all_targets_array[..., 2]\n",
    "\n",
    "mask = features_array[:, 11] == 1\n",
    "\n",
    "print(\"Number of samples before filtering:\", features_array.shape[0])\n",
    "# Apply the mask to both arrays\n",
    "filtered_features = features_array[mask]\n",
    "filtered_targets = targets_array[mask]\n",
    "print(\"Number of samples after filtering:\", filtered_features.shape[0])\n",
    "\n",
    "filtered_features = np.delete(filtered_features,11, axis=-1)\n",
    "\n"
   ]
  },
  {
   "cell_type": "code",
   "execution_count": null,
   "metadata": {},
   "outputs": [
    {
     "data": {
      "text/plain": [
       "['../plots/perceptron/flux/2025-05-30_14-27/scaler.pkl']"
      ]
     },
     "execution_count": 107,
     "metadata": {},
     "output_type": "execute_result"
    }
   ],
   "source": [
    "X_train = filtered_features[:int(0.8 * len(filtered_features))]\n",
    "Y_train = filtered_targets[:int(0.8 * len(filtered_targets))]\n",
    "X_val = filtered_features[int(0.8 * len(filtered_features)):int(0.9 * len(filtered_features))]\n",
    "Y_val = filtered_targets[int(0.8 * len(filtered_targets)):int(0.9 * len(filtered_targets))]\n",
    "X_test = filtered_features[int(0.9 * len(filtered_features)):]\n",
    "Y_test = filtered_targets[int(0.9 * len(filtered_targets)):]\n",
    "\n",
    "feature_scaler = StandardScaler()\n",
    "\n",
    "X_train = feature_scaler.fit_transform(X_train)\n",
    "X_val = feature_scaler.transform(X_val)\n",
    "X_test = feature_scaler.transform(X_test)\n",
    "\n",
    "joblib.dump(feature_scaler, folder_path + '/scaler.pkl')\n",
    "# target_scaler = StandardScaler()\n",
    "# Y_train = target_scaler.fit_transform(Y_train.reshape(-1, 1)).flatten()\n",
    "# Y_val = target_scaler.transform(Y_val.reshape(-1, 1)).flatten()\n",
    "# Y_test = target_scaler.transform(Y_test.reshape(-1, 1)).flatten()\n",
    "\n",
    "# Create a random permutation of indices\n",
    "# perm = np.random.permutation(X_train.shape[0])\n",
    "# X_train = X_train[perm]\n",
    "# Y_train = Y_train[perm]\n",
    "\n",
    "# perm_val = np.random.permutation(X_val.shape[0])\n",
    "# X_val = X_val[perm_val]\n",
    "# Y_val = Y_val[perm_val]\n"
   ]
  },
  {
   "cell_type": "code",
   "execution_count": 108,
   "metadata": {},
   "outputs": [
    {
     "name": "stdout",
     "output_type": "stream",
     "text": [
      "Training data: Mean: 0.4965, Std: 1.4904, Min: -49.9030, Max: 22.9568\n",
      "Validation data: Mean: 0.6710, Std: 1.6410, Min: -40.2793, Max: 27.1420\n",
      "Test data: Mean: 0.7048, Std: 1.6631, Min: -47.6922, Max: 22.1484\n"
     ]
    }
   ],
   "source": [
    "# Compute statistics\n",
    "mean = np.mean(Y_train)\n",
    "std = np.std(Y_train)\n",
    "min_val = np.min(Y_train)\n",
    "max_val = np.max(Y_train)\n",
    "\n",
    "print(f\"Training data: Mean: {mean:.4f}, Std: {std:.4f}, Min: {min_val:.4f}, Max: {max_val:.4f}\")\n",
    "\n",
    "mean = np.mean(Y_val)\n",
    "std = np.std(Y_val)\n",
    "min_val = np.min(Y_val)\n",
    "max_val = np.max(Y_val)\n",
    "print(f\"Validation data: Mean: {mean:.4f}, Std: {std:.4f}, Min: {min_val:.4f}, Max: {max_val:.4f}\")\n",
    "\n",
    "mean = np.mean(Y_test)\n",
    "std = np.std(Y_test)\n",
    "min_val = np.min(Y_test)\n",
    "max_val = np.max(Y_test)\n",
    "print(f\"Test data: Mean: {mean:.4f}, Std: {std:.4f}, Min: {min_val:.4f}, Max: {max_val:.4f}\")"
   ]
  },
  {
   "cell_type": "code",
   "execution_count": 109,
   "metadata": {},
   "outputs": [],
   "source": [
    "n_epochs = 10\n",
    "batch_size = 4096\n",
    "lr = 0.0002\n",
    "\n",
    "model = tf.keras.models.Sequential([\n",
    "     tf.keras.layers.Dense(128, activation='relu', kernel_regularizer=tf.keras.regularizers.l2(0.001)),\n",
    "     tf.keras.layers.BatchNormalization(),\n",
    "    \n",
    "     tf.keras.layers.Dense(256, activation='relu', kernel_regularizer=tf.keras.regularizers.l2(0.001)),\n",
    "     tf.keras.layers.BatchNormalization(),\n",
    "     tf.keras.layers.Dropout(0.2),\n",
    "    \n",
    "     tf.keras.layers.Dense(128, activation='relu', kernel_regularizer=tf.keras.regularizers.l2(0.001)),\n",
    "     tf.keras.layers.BatchNormalization(),\n",
    "     tf.keras.layers.Dropout(0.2),\n",
    "\n",
    "     tf.keras.layers.Dense(1, activation='linear')\n",
    "])\n",
    "\n",
    "model.compile(\n",
    "    optimizer=tf.keras.optimizers.Adam(learning_rate=lr),\n",
    "    loss=tf.keras.losses.Huber(delta=2.0),\n",
    "    metrics=['mae']\n",
    ")"
   ]
  },
  {
   "cell_type": "code",
   "execution_count": 110,
   "metadata": {},
   "outputs": [
    {
     "name": "stdout",
     "output_type": "stream",
     "text": [
      "Epoch 1/10\n",
      "\u001b[1m6082/6082\u001b[0m \u001b[32m━━━━━━━━━━━━━━━━━━━━\u001b[0m\u001b[37m\u001b[0m \u001b[1m98s\u001b[0m 16ms/step - loss: 0.6246 - mae: 0.6256 - val_loss: 0.2965 - val_mae: 0.4771 - learning_rate: 2.0000e-04\n",
      "Epoch 2/10\n",
      "\u001b[1m6082/6082\u001b[0m \u001b[32m━━━━━━━━━━━━━━━━━━━━\u001b[0m\u001b[37m\u001b[0m \u001b[1m98s\u001b[0m 16ms/step - loss: 0.2325 - mae: 0.4217 - val_loss: 0.2657 - val_mae: 0.4615 - learning_rate: 2.0000e-04\n",
      "Epoch 3/10\n",
      "\u001b[1m6082/6082\u001b[0m \u001b[32m━━━━━━━━━━━━━━━━━━━━\u001b[0m\u001b[37m\u001b[0m \u001b[1m98s\u001b[0m 16ms/step - loss: 0.2096 - mae: 0.4057 - val_loss: 0.2528 - val_mae: 0.4534 - learning_rate: 2.0000e-04\n",
      "Epoch 4/10\n",
      "\u001b[1m6082/6082\u001b[0m \u001b[32m━━━━━━━━━━━━━━━━━━━━\u001b[0m\u001b[37m\u001b[0m \u001b[1m97s\u001b[0m 16ms/step - loss: 0.2010 - mae: 0.3988 - val_loss: 0.2453 - val_mae: 0.4474 - learning_rate: 2.0000e-04\n",
      "Epoch 5/10\n",
      "\u001b[1m6082/6082\u001b[0m \u001b[32m━━━━━━━━━━━━━━━━━━━━\u001b[0m\u001b[37m\u001b[0m \u001b[1m98s\u001b[0m 16ms/step - loss: 0.1963 - mae: 0.3948 - val_loss: 0.2455 - val_mae: 0.4495 - learning_rate: 2.0000e-04\n",
      "Epoch 6/10\n",
      "\u001b[1m6082/6082\u001b[0m \u001b[32m━━━━━━━━━━━━━━━━━━━━\u001b[0m\u001b[37m\u001b[0m \u001b[1m99s\u001b[0m 16ms/step - loss: 0.1930 - mae: 0.3918 - val_loss: 0.2470 - val_mae: 0.4526 - learning_rate: 2.0000e-04\n",
      "Epoch 7/10\n",
      "\u001b[1m6082/6082\u001b[0m \u001b[32m━━━━━━━━━━━━━━━━━━━━\u001b[0m\u001b[37m\u001b[0m \u001b[1m97s\u001b[0m 16ms/step - loss: 0.1848 - mae: 0.3832 - val_loss: 0.2256 - val_mae: 0.4307 - learning_rate: 1.0000e-04\n",
      "Epoch 8/10\n",
      "\u001b[1m6082/6082\u001b[0m \u001b[32m━━━━━━━━━━━━━━━━━━━━\u001b[0m\u001b[37m\u001b[0m \u001b[1m99s\u001b[0m 16ms/step - loss: 0.1821 - mae: 0.3814 - val_loss: 0.2338 - val_mae: 0.4402 - learning_rate: 1.0000e-04\n",
      "Epoch 9/10\n",
      "\u001b[1m6082/6082\u001b[0m \u001b[32m━━━━━━━━━━━━━━━━━━━━\u001b[0m\u001b[37m\u001b[0m \u001b[1m97s\u001b[0m 16ms/step - loss: 0.1806 - mae: 0.3803 - val_loss: 0.2380 - val_mae: 0.4460 - learning_rate: 1.0000e-04\n",
      "Epoch 10/10\n",
      "\u001b[1m6082/6082\u001b[0m \u001b[32m━━━━━━━━━━━━━━━━━━━━\u001b[0m\u001b[37m\u001b[0m \u001b[1m97s\u001b[0m 16ms/step - loss: 0.1758 - mae: 0.3751 - val_loss: 0.2281 - val_mae: 0.4329 - learning_rate: 5.0000e-05\n"
     ]
    }
   ],
   "source": [
    "early_stopping = tf.keras.callbacks.EarlyStopping(monitor='val_loss', patience=4, restore_best_weights=True)\n",
    "lr_scheduler = tf.keras.callbacks.ReduceLROnPlateau(monitor='val_loss', factor=0.5, patience=2, min_lr=1e-6)\n",
    " \n",
    "history = model.fit(\n",
    "    X_train,\n",
    "    Y_train,\n",
    "    epochs=n_epochs,             \n",
    "    batch_size=batch_size,          \n",
    "    validation_data=(X_val, Y_val),\n",
    "    callbacks=[early_stopping, lr_scheduler])"
   ]
  },
  {
   "cell_type": "code",
   "execution_count": 111,
   "metadata": {},
   "outputs": [],
   "source": [
    "model.save(folder_path + \"/model.keras\")"
   ]
  },
  {
   "cell_type": "code",
   "execution_count": 112,
   "metadata": {},
   "outputs": [
    {
     "name": "stdout",
     "output_type": "stream",
     "text": [
      "\u001b[1m97308/97308\u001b[0m \u001b[32m━━━━━━━━━━━━━━━━━━━━\u001b[0m\u001b[37m\u001b[0m \u001b[1m32s\u001b[0m 332us/step\n",
      "Mean Squared Error: 0.52\n",
      "Mean Absolute Error: 0.46\n"
     ]
    }
   ],
   "source": [
    "model = tf.keras.models.load_model(folder_path + \"/model.keras\")\n",
    "# run model on test data\n",
    "test_pred = model.predict(X_test)\n",
    "# test_pred = target_scaler.inverse_transform(test_pred)\n",
    "\n",
    "mse = mean_squared_error(test_pred, Y_test)\n",
    "mae = mean_absolute_error(test_pred, Y_test)\n",
    "print(f\"Mean Squared Error: {mse:.2f}\")\n",
    "print(f\"Mean Absolute Error: {mae:.2f}\")"
   ]
  },
  {
   "cell_type": "code",
   "execution_count": 113,
   "metadata": {},
   "outputs": [
    {
     "data": {
      "image/png": "[encoded data removed]",
      "text/plain": [
       "<Figure size 640x480 with 1 Axes>"
      ]
     },
     "metadata": {},
     "output_type": "display_data"
    }
   ],
   "source": [
    "plt.plot(history.history['loss'], color = 'blue', label = 'training loss')\n",
    "plt.plot(history.history['val_loss'], color = 'red', label = 'validation loss')\n",
    "plt.xlabel('Epoch number')\n",
    "plt.ylabel('Loss')\n",
    "plt.title('Training and validation loss')\n",
    "plt.grid(True)\n",
    "plt.legend()\n",
    "\n",
    "plt.subplots_adjust(bottom=0.3)\n",
    "plt.figtext(0.5, 0.01, f\"learning rate: {lr}\\nLoss function: Huber loss, threshold 1.0\\nBatch size: {str(batch_size)}\\nPredicted feature: co2 flux\\nTest mse: {mse:.2f}\\nTest mae: {mae:.2f}\",\n",
    "            wrap=True, horizontalalignment='center', fontsize=10, color='black')\n",
    "\n",
    "path = folder_path + '/' + timestamp + '_training_validation_loss.png'\n",
    "plt.savefig(path, format='png', dpi=300)\n",
    "plt.show()  "
   ]
  },
  {
   "cell_type": "code",
   "execution_count": 114,
   "metadata": {},
   "outputs": [],
   "source": [
    "# compute SHAP values\n",
    "# explainer = shap.Explainer(model, X_t[:1000])\n",
    "# explainer = shap.explainers.Permutation(model, X_t)\n",
    "# shap_values = explainer(X[:100])\n",
    "# shap_values = explainer(X_t[:100])\n",
    "\n",
    "# shap.plots.waterfall(shap_values[0], max_display=20)\n",
    "\n"
   ]
  },
  {
   "cell_type": "code",
   "execution_count": 115,
   "metadata": {},
   "outputs": [],
   "source": [
    "# shap.plots.waterfall(shap_values[0], max_display=20)"
   ]
  },
  {
   "cell_type": "code",
   "execution_count": 116,
   "metadata": {},
   "outputs": [],
   "source": [
    "# shap.plots.scatter(shap_values[:, :])"
   ]
  },
  {
   "cell_type": "code",
   "execution_count": null,
   "metadata": {},
   "outputs": [
    {
     "ename": "ValueError",
     "evalue": "X has 15 features, but StandardScaler is expecting 10 features as input.",
     "output_type": "error",
     "traceback": [
      "\u001b[0;31m---------------------------------------------------------------------------\u001b[0m",
      "\u001b[0;31mValueError\u001b[0m                                Traceback (most recent call last)",
      "Cell \u001b[0;32mIn[118], line 21\u001b[0m\n\u001b[1;32m     13\u001b[0m X_flat \u001b[38;5;241m=\u001b[39m np\u001b[38;5;241m.\u001b[39mdelete(X_flat, \u001b[38;5;241m11\u001b[39m, axis\u001b[38;5;241m=\u001b[39m\u001b[38;5;241m1\u001b[39m)\n\u001b[1;32m     15\u001b[0m \u001b[38;5;66;03m# folder_path = \"../plots/perceptron/flux/2025-05-28_10-09\"\u001b[39;00m\n\u001b[1;32m     16\u001b[0m \u001b[38;5;66;03m# model = tf.keras.models.load_model(folder_path + \"/model.keras\")\u001b[39;00m\n\u001b[1;32m     17\u001b[0m \n\u001b[1;32m     18\u001b[0m \n\u001b[1;32m     19\u001b[0m \n\u001b[1;32m     20\u001b[0m \u001b[38;5;66;03m# feature_scaler= joblib.load(folder_path + \"/scaler.pkl\")\u001b[39;00m\n\u001b[0;32m---> 21\u001b[0m X_scaled_flat \u001b[38;5;241m=\u001b[39m \u001b[43mfeature_scaler\u001b[49m\u001b[38;5;241;43m.\u001b[39;49m\u001b[43mtransform\u001b[49m\u001b[43m(\u001b[49m\u001b[43mX_flat\u001b[49m\u001b[43m)\u001b[49m\n\u001b[1;32m     22\u001b[0m reconstruction_flat \u001b[38;5;241m=\u001b[39m model\u001b[38;5;241m.\u001b[39mpredict(X_scaled_flat)\n\u001b[1;32m     23\u001b[0m reconstruction \u001b[38;5;241m=\u001b[39m reconstruction_flat\u001b[38;5;241m.\u001b[39mreshape(n_samples, h, w)\n",
      "File \u001b[0;32m~/Documents/CAU/Masterarbeit/master-thesis/env/lib/python3.11/site-packages/sklearn/utils/_set_output.py:316\u001b[0m, in \u001b[0;36m_wrap_method_output.<locals>.wrapped\u001b[0;34m(self, X, *args, **kwargs)\u001b[0m\n\u001b[1;32m    314\u001b[0m \u001b[38;5;129m@wraps\u001b[39m(f)\n\u001b[1;32m    315\u001b[0m \u001b[38;5;28;01mdef\u001b[39;00m \u001b[38;5;21mwrapped\u001b[39m(\u001b[38;5;28mself\u001b[39m, X, \u001b[38;5;241m*\u001b[39margs, \u001b[38;5;241m*\u001b[39m\u001b[38;5;241m*\u001b[39mkwargs):\n\u001b[0;32m--> 316\u001b[0m     data_to_wrap \u001b[38;5;241m=\u001b[39m \u001b[43mf\u001b[49m\u001b[43m(\u001b[49m\u001b[38;5;28;43mself\u001b[39;49m\u001b[43m,\u001b[49m\u001b[43m \u001b[49m\u001b[43mX\u001b[49m\u001b[43m,\u001b[49m\u001b[43m \u001b[49m\u001b[38;5;241;43m*\u001b[39;49m\u001b[43margs\u001b[49m\u001b[43m,\u001b[49m\u001b[43m \u001b[49m\u001b[38;5;241;43m*\u001b[39;49m\u001b[38;5;241;43m*\u001b[39;49m\u001b[43mkwargs\u001b[49m\u001b[43m)\u001b[49m\n\u001b[1;32m    317\u001b[0m     \u001b[38;5;28;01mif\u001b[39;00m \u001b[38;5;28misinstance\u001b[39m(data_to_wrap, \u001b[38;5;28mtuple\u001b[39m):\n\u001b[1;32m    318\u001b[0m         \u001b[38;5;66;03m# only wrap the first output for cross decomposition\u001b[39;00m\n\u001b[1;32m    319\u001b[0m         return_tuple \u001b[38;5;241m=\u001b[39m (\n\u001b[1;32m    320\u001b[0m             _wrap_data_with_container(method, data_to_wrap[\u001b[38;5;241m0\u001b[39m], X, \u001b[38;5;28mself\u001b[39m),\n\u001b[1;32m    321\u001b[0m             \u001b[38;5;241m*\u001b[39mdata_to_wrap[\u001b[38;5;241m1\u001b[39m:],\n\u001b[1;32m    322\u001b[0m         )\n",
      "File \u001b[0;32m~/Documents/CAU/Masterarbeit/master-thesis/env/lib/python3.11/site-packages/sklearn/preprocessing/_data.py:1045\u001b[0m, in \u001b[0;36mStandardScaler.transform\u001b[0;34m(self, X, copy)\u001b[0m\n\u001b[1;32m   1042\u001b[0m check_is_fitted(\u001b[38;5;28mself\u001b[39m)\n\u001b[1;32m   1044\u001b[0m copy \u001b[38;5;241m=\u001b[39m copy \u001b[38;5;28;01mif\u001b[39;00m copy \u001b[38;5;129;01mis\u001b[39;00m \u001b[38;5;129;01mnot\u001b[39;00m \u001b[38;5;28;01mNone\u001b[39;00m \u001b[38;5;28;01melse\u001b[39;00m \u001b[38;5;28mself\u001b[39m\u001b[38;5;241m.\u001b[39mcopy\n\u001b[0;32m-> 1045\u001b[0m X \u001b[38;5;241m=\u001b[39m \u001b[38;5;28;43mself\u001b[39;49m\u001b[38;5;241;43m.\u001b[39;49m\u001b[43m_validate_data\u001b[49m\u001b[43m(\u001b[49m\n\u001b[1;32m   1046\u001b[0m \u001b[43m    \u001b[49m\u001b[43mX\u001b[49m\u001b[43m,\u001b[49m\n\u001b[1;32m   1047\u001b[0m \u001b[43m    \u001b[49m\u001b[43mreset\u001b[49m\u001b[38;5;241;43m=\u001b[39;49m\u001b[38;5;28;43;01mFalse\u001b[39;49;00m\u001b[43m,\u001b[49m\n\u001b[1;32m   1048\u001b[0m \u001b[43m    \u001b[49m\u001b[43maccept_sparse\u001b[49m\u001b[38;5;241;43m=\u001b[39;49m\u001b[38;5;124;43m\"\u001b[39;49m\u001b[38;5;124;43mcsr\u001b[39;49m\u001b[38;5;124;43m\"\u001b[39;49m\u001b[43m,\u001b[49m\n\u001b[1;32m   1049\u001b[0m \u001b[43m    \u001b[49m\u001b[43mcopy\u001b[49m\u001b[38;5;241;43m=\u001b[39;49m\u001b[43mcopy\u001b[49m\u001b[43m,\u001b[49m\n\u001b[1;32m   1050\u001b[0m \u001b[43m    \u001b[49m\u001b[43mdtype\u001b[49m\u001b[38;5;241;43m=\u001b[39;49m\u001b[43mFLOAT_DTYPES\u001b[49m\u001b[43m,\u001b[49m\n\u001b[1;32m   1051\u001b[0m \u001b[43m    \u001b[49m\u001b[43mforce_writeable\u001b[49m\u001b[38;5;241;43m=\u001b[39;49m\u001b[38;5;28;43;01mTrue\u001b[39;49;00m\u001b[43m,\u001b[49m\n\u001b[1;32m   1052\u001b[0m \u001b[43m    \u001b[49m\u001b[43mforce_all_finite\u001b[49m\u001b[38;5;241;43m=\u001b[39;49m\u001b[38;5;124;43m\"\u001b[39;49m\u001b[38;5;124;43mallow-nan\u001b[39;49m\u001b[38;5;124;43m\"\u001b[39;49m\u001b[43m,\u001b[49m\n\u001b[1;32m   1053\u001b[0m \u001b[43m\u001b[49m\u001b[43m)\u001b[49m\n\u001b[1;32m   1055\u001b[0m \u001b[38;5;28;01mif\u001b[39;00m sparse\u001b[38;5;241m.\u001b[39missparse(X):\n\u001b[1;32m   1056\u001b[0m     \u001b[38;5;28;01mif\u001b[39;00m \u001b[38;5;28mself\u001b[39m\u001b[38;5;241m.\u001b[39mwith_mean:\n",
      "File \u001b[0;32m~/Documents/CAU/Masterarbeit/master-thesis/env/lib/python3.11/site-packages/sklearn/base.py:654\u001b[0m, in \u001b[0;36mBaseEstimator._validate_data\u001b[0;34m(self, X, y, reset, validate_separately, cast_to_ndarray, **check_params)\u001b[0m\n\u001b[1;32m    651\u001b[0m     out \u001b[38;5;241m=\u001b[39m X, y\n\u001b[1;32m    653\u001b[0m \u001b[38;5;28;01mif\u001b[39;00m \u001b[38;5;129;01mnot\u001b[39;00m no_val_X \u001b[38;5;129;01mand\u001b[39;00m check_params\u001b[38;5;241m.\u001b[39mget(\u001b[38;5;124m\"\u001b[39m\u001b[38;5;124mensure_2d\u001b[39m\u001b[38;5;124m\"\u001b[39m, \u001b[38;5;28;01mTrue\u001b[39;00m):\n\u001b[0;32m--> 654\u001b[0m     \u001b[38;5;28;43mself\u001b[39;49m\u001b[38;5;241;43m.\u001b[39;49m\u001b[43m_check_n_features\u001b[49m\u001b[43m(\u001b[49m\u001b[43mX\u001b[49m\u001b[43m,\u001b[49m\u001b[43m \u001b[49m\u001b[43mreset\u001b[49m\u001b[38;5;241;43m=\u001b[39;49m\u001b[43mreset\u001b[49m\u001b[43m)\u001b[49m\n\u001b[1;32m    656\u001b[0m \u001b[38;5;28;01mreturn\u001b[39;00m out\n",
      "File \u001b[0;32m~/Documents/CAU/Masterarbeit/master-thesis/env/lib/python3.11/site-packages/sklearn/base.py:443\u001b[0m, in \u001b[0;36mBaseEstimator._check_n_features\u001b[0;34m(self, X, reset)\u001b[0m\n\u001b[1;32m    440\u001b[0m     \u001b[38;5;28;01mreturn\u001b[39;00m\n\u001b[1;32m    442\u001b[0m \u001b[38;5;28;01mif\u001b[39;00m n_features \u001b[38;5;241m!=\u001b[39m \u001b[38;5;28mself\u001b[39m\u001b[38;5;241m.\u001b[39mn_features_in_:\n\u001b[0;32m--> 443\u001b[0m     \u001b[38;5;28;01mraise\u001b[39;00m \u001b[38;5;167;01mValueError\u001b[39;00m(\n\u001b[1;32m    444\u001b[0m         \u001b[38;5;124mf\u001b[39m\u001b[38;5;124m\"\u001b[39m\u001b[38;5;124mX has \u001b[39m\u001b[38;5;132;01m{\u001b[39;00mn_features\u001b[38;5;132;01m}\u001b[39;00m\u001b[38;5;124m features, but \u001b[39m\u001b[38;5;132;01m{\u001b[39;00m\u001b[38;5;28mself\u001b[39m\u001b[38;5;241m.\u001b[39m\u001b[38;5;18m__class__\u001b[39m\u001b[38;5;241m.\u001b[39m\u001b[38;5;18m__name__\u001b[39m\u001b[38;5;132;01m}\u001b[39;00m\u001b[38;5;124m \u001b[39m\u001b[38;5;124m\"\u001b[39m\n\u001b[1;32m    445\u001b[0m         \u001b[38;5;124mf\u001b[39m\u001b[38;5;124m\"\u001b[39m\u001b[38;5;124mis expecting \u001b[39m\u001b[38;5;132;01m{\u001b[39;00m\u001b[38;5;28mself\u001b[39m\u001b[38;5;241m.\u001b[39mn_features_in_\u001b[38;5;132;01m}\u001b[39;00m\u001b[38;5;124m features as input.\u001b[39m\u001b[38;5;124m\"\u001b[39m\n\u001b[1;32m    446\u001b[0m     )\n",
      "\u001b[0;31mValueError\u001b[0m: X has 15 features, but StandardScaler is expecting 10 features as input."
     ]
    }
   ],
   "source": [
    "feature_files = [os.path.join(data_path, f\"{i}_features.npy\") for i in range(720, 733)]\n",
    "target_files = [os.path.join(data_path, f\"{i}_targets.npy\") for i in range(720, 733)]\n",
    "\n",
    "X = np.stack([np.load(fp) for fp in feature_files])\n",
    "Y = np.stack([np.load(fp) for fp in target_files])\n",
    "\n",
    "Y = Y[..., 2]\n",
    "\n",
    "mask = X[0,:,:,11] == 1\n",
    "\n",
    "n_samples, h, w, n_features = X.shape\n",
    "X_flat = X.reshape(-1,n_features)\n",
    "X_flat = np.delete(X_flat, 11, axis=1)\n",
    "\n",
    "# folder_path = \"../plots/perceptron/flux/2025-05-28_10-09\"\n",
    "# model = tf.keras.models.load_model(folder_path + \"/model.keras\")\n",
    "\n",
    "# feature_scaler= joblib.load(folder_path + \"/scaler.pkl\")\n",
    "X_scaled_flat = feature_scaler.transform(X_flat)\n",
    "reconstruction_flat = model.predict(X_scaled_flat)\n",
    "reconstruction = reconstruction_flat.reshape(n_samples, h, w)\n",
    "diff = abs(reconstruction-Y)\n",
    "\n",
    "averaged_reconstruction = np.mean(reconstruction, axis=0) * mask\n",
    "averaged_truth = np.mean(Y, axis=0) * mask\n",
    "averaged_diff = np.mean(diff, axis=0) * mask\n",
    "plot_feature_on_map(averaged_diff,-77,90,0,2,folder_path, 'averaged_reconstruction_error','CO2 Flux - Absolute reconstruction error averaged over all 12 month of 2018')\n",
    "plot_feature_on_map(averaged_truth,-77,90,-5,5,folder_path, 'averaged_target','CO2 Flux - Target averaged over all 12 month of 2018')\n",
    "plot_feature_on_map(averaged_reconstruction,-77,90,-5,5,folder_path, 'averaged_reconstruction','CO2 Flux - Reconstruction averaged over all 12 month of 2018')\n",
    "\n"
   ]
  }
 ],
 "metadata": {
  "kernelspec": {
   "display_name": "env",
   "language": "python",
   "name": "python3"
  },
  "language_info": {
   "codemirror_mode": {
    "name": "ipython",
    "version": 3
   },
   "file_extension": ".py",
   "mimetype": "text/x-python",
   "name": "python",
   "nbconvert_exporter": "python",
   "pygments_lexer": "ipython3",
   "version": "3.11.10"
  }
 },
 "nbformat": 4,
 "nbformat_minor": 2
}
