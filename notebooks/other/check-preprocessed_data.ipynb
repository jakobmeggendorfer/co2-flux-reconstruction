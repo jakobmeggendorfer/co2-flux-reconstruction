{
 "cells": [
  {
   "cell_type": "code",
   "execution_count": 4,
   "id": "180da62a",
   "metadata": {},
   "outputs": [],
   "source": [
    "import os\n",
    "import numpy as np"
   ]
  },
  {
   "cell_type": "code",
   "execution_count": 10,
   "id": "9b3163fa",
   "metadata": {},
   "outputs": [],
   "source": [
    "data_path = \"../../../../../../../../Volumes/T7Shield/preprocessed_exp1\"\n",
    "folder_path = \"../plots/perceptron/flux\" "
   ]
  },
  {
   "cell_type": "code",
   "execution_count": 11,
   "id": "87cfc20f",
   "metadata": {},
   "outputs": [],
   "source": [
    "start_year = 2013\n",
    "end_year = 2018\n",
    "\n",
    "start_index = (start_year-1958)*12+1\n",
    "end_index = (end_year-1957)*12+1\n",
    "\n",
    "# load test data\n",
    "feature_files = [os.path.join(data_path, f\"{i}_features.npy\") for i in range(start_index, end_index)]\n",
    "target_files = [os.path.join(data_path, f\"{i}_targets.npy\") for i in range(start_index, end_index)]\n",
    "\n",
    "features_list = []\n",
    "targets_list = []\n",
    "\n",
    "for f_file, t_file in zip(feature_files, target_files):\n",
    "    features = np.load(f_file) \n",
    "    targets = np.load(t_file)  \n",
    "    features_flat = features.reshape(-1, features.shape[2])  \n",
    "    targets_flat = targets.reshape(-1, targets.shape[2])   \n",
    "    features_list.append(features_flat)\n",
    "    targets_list.append(targets_flat)\n",
    "\n",
    "features_array = np.concatenate(features_list, axis=0)  \n",
    "all_targets_array = np.concatenate(targets_list, axis=0)   \n",
    "\n",
    "targets_array = all_targets_array[..., 3]\n"
   ]
  },
  {
   "cell_type": "code",
   "execution_count": 5,
   "id": "1127fc46",
   "metadata": {},
   "outputs": [
    {
     "name": "stdout",
     "output_type": "stream",
     "text": [
      "SST: Mean: 9.7755, Std: 11.6880, Min: -2.0749, Max: 34.9773, Nans: False\n",
      "SAL: Mean: 24.2364, Std: 15.6804, Min: 0.0000, Max: 42.9179, Nans: False\n",
      "ice_frac: Mean: 0.1233, Std: 0.3122, Min: 0.0000, Max: 1.0000, Nans: False\n",
      "mixed_layer_depth: Mean: 36.8386, Std: 56.9249, Min: 0.0000, Max: 3448.2659, Nans: False\n",
      "heat_flux_down: Mean: -2.4798, Std: 74.6523, Min: -1612.7415, Max: 293.3104, Nans: False\n",
      "water_flux_up: Mean: 23183809879766704.0000, Std: 36062636976938824.0000, Min: -0.0366, Max: 79282407634632704.0000, Nans: False\n",
      "stress_X: Mean: 0.0091, Std: 0.0619, Min: -0.9308, Max: 0.6189, Nans: False\n",
      "stress_Y: Mean: -0.0002, Std: 0.0345, Min: -0.8659, Max: 0.7293, Nans: False\n",
      "currents_X: Mean: 0.0076, Std: 0.0981, Min: -1.7509, Max: 1.7494, Nans: False\n",
      "currents_Y: Mean: 0.0010, Std: 0.0611, Min: -1.7895, Max: 2.3239, Nans: False\n",
      "month: Mean: 6.5000, Std: 3.4521, Min: 1.0000, Max: 12.0000, Nans: False\n",
      "tmask: Mean: 0.7076, Std: 0.4549, Min: 0.0000, Max: 1.0000, Nans: False\n",
      "year: Mean: 1988.0000, Std: 17.6068, Min: 1958.0000, Max: 2018.0000, Nans: False\n",
      "nav_lat: Mean: 6.4969, Std: 48.2052, Min: -76.4949, Max: 89.8876, Nans: False\n",
      "nav_lon: Mean: -0.0000, Std: 103.9220, Min: -179.9906, Max: 179.6727, Nans: False\n",
      "global_co2: Mean: 353.2556, Std: 27.2859, Min: 315.3400, Max: 406.3100, Nans: False\n",
      "CO2 Flux: Mean: 0.1186, Std: 1.1248, Min: -46.8536, Max: 20.1132, Nans: False\n"
     ]
    }
   ],
   "source": [
    "features = ['SST', 'SAL', 'ice_frac', 'mixed_layer_depth', 'heat_flux_down', 'water_flux_up', 'stress_X', 'stress_Y', 'currents_X', 'currents_Y', 'month',\n",
    "            'tmask','year','nav_lat', 'nav_lon','global_co2']\n",
    "\n",
    "for i in range(len(features)):\n",
    "    mean = np.mean(features_array[:,i])\n",
    "    std = np.std(features_array[:,i])\n",
    "    min_val = np.min(features_array[:,i])\n",
    "    max_val = np.max(features_array[:,i])\n",
    "    existNans = np.isnan(features_array[:,i]).any()\n",
    "\n",
    "    print(f\"{features[i]}: Mean: {mean:.4f}, Std: {std:.4f}, Min: {min_val:.4f}, Max: {max_val:.4f}, Nans: {existNans}\")\n",
    "\n",
    "mean = np.mean(targets_array)\n",
    "std = np.std(targets_array)\n",
    "min_val = np.min(targets_array)\n",
    "max_val = np.max(targets_array)\n",
    "existNans = np.isnan(targets_array).any()\n",
    "\n",
    "print(f\"CO2 Flux: Mean: {mean:.4f}, Std: {std:.4f}, Min: {min_val:.4f}, Max: {max_val:.4f}, Nans: {existNans}\")\n"
   ]
  },
  {
   "cell_type": "code",
   "execution_count": 12,
   "id": "1d89c0ce",
   "metadata": {},
   "outputs": [
    {
     "name": "stdout",
     "output_type": "stream",
     "text": [
      "SST: Mean: 9.8297, Std: 11.7213, Min: -1.9963, Max: 33.9089, Nans: False\n",
      "SAL: Mean: 24.2380, Std: 15.6809, Min: 0.0000, Max: 42.1216, Nans: False\n",
      "ice_frac: Mean: 0.1210, Std: 0.3093, Min: 0.0000, Max: 1.0000, Nans: False\n",
      "mixed_layer_depth: Mean: 37.2119, Std: 62.6312, Min: 0.0000, Max: 3447.1616, Nans: False\n",
      "heat_flux_down: Mean: -2.4887, Std: 74.8593, Min: -1121.8855, Max: 271.4500, Nans: False\n",
      "water_flux_up: Mean: 23183809879766704.0000, Std: 36062636976938824.0000, Min: -0.0242, Max: 79282407634632704.0000, Nans: False\n",
      "stress_X: Mean: 0.0098, Std: 0.0624, Min: -0.5233, Max: 0.4672, Nans: False\n",
      "stress_Y: Mean: -0.0000, Std: 0.0340, Min: -0.4575, Max: 0.4641, Nans: False\n",
      "currents_X: Mean: 0.0074, Std: 0.0979, Min: -1.6351, Max: 1.5988, Nans: False\n",
      "currents_Y: Mean: 0.0010, Std: 0.0617, Min: -1.5927, Max: 2.2389, Nans: False\n",
      "month: Mean: 6.5000, Std: 3.4521, Min: 1.0000, Max: 12.0000, Nans: False\n",
      "tmask: Mean: 0.7076, Std: 0.4549, Min: 0.0000, Max: 1.0000, Nans: False\n",
      "year: Mean: 1988.0000, Std: 17.6068, Min: 1958.0000, Max: 2018.0000, Nans: False\n",
      "nav_lat: Mean: 6.4969, Std: 48.2052, Min: -76.4949, Max: 89.8876, Nans: False\n",
      "nav_lon: Mean: -0.0000, Std: 103.9220, Min: -179.9906, Max: 179.6727, Nans: False\n",
      "global_co2: Mean: 353.2556, Std: 27.2859, Min: 315.3400, Max: 406.3100, Nans: False\n",
      "CO2 Flux: Mean: 0.0879, Std: 1.1182, Min: -31.6591, Max: 11.4158, Nans: False\n"
     ]
    }
   ],
   "source": [
    "features = ['SST', 'SAL', 'ice_frac', 'mixed_layer_depth', 'heat_flux_down', 'water_flux_up', 'stress_X', 'stress_Y', 'currents_X', 'currents_Y', 'month',\n",
    "            'tmask','year','nav_lat', 'nav_lon','global_co2']\n",
    "\n",
    "for i in range(len(features)):\n",
    "    mean = np.mean(features_array[:,i])\n",
    "    std = np.std(features_array[:,i])\n",
    "    min_val = np.min(features_array[:,i])\n",
    "    max_val = np.max(features_array[:,i])\n",
    "    existNans = np.isnan(features_array[:,i]).any()\n",
    "\n",
    "    print(f\"{features[i]}: Mean: {mean:.4f}, Std: {std:.4f}, Min: {min_val:.4f}, Max: {max_val:.4f}, Nans: {existNans}\")\n",
    "\n",
    "mean = np.mean(targets_array)\n",
    "std = np.std(targets_array)\n",
    "min_val = np.min(targets_array)\n",
    "max_val = np.max(targets_array)\n",
    "existNans = np.isnan(targets_array).any()\n",
    "\n",
    "print(f\"CO2 Flux: Mean: {mean:.4f}, Std: {std:.4f}, Min: {min_val:.4f}, Max: {max_val:.4f}, Nans: {existNans}\")"
   ]
  },
  {
   "cell_type": "code",
   "execution_count": 9,
   "id": "ab02e3be",
   "metadata": {},
   "outputs": [
    {
     "name": "stdout",
     "output_type": "stream",
     "text": [
      "CO2 Flux: Mean: 0.2149, Std: 0.8233, Min: -9.5630, Max: 10.6780, Nans: False\n"
     ]
    }
   ],
   "source": [
    "from ocean_basins import get_region\n",
    "\n",
    "region_targets = get_region(targets_array.reshape((72,167,360)), 'ARCTIC')\n",
    "\n",
    "mean = np.mean(region_targets)\n",
    "std = np.std(region_targets)\n",
    "min_val = np.min(region_targets)\n",
    "max_val = np.max(region_targets)\n",
    "existNans = np.isnan(region_targets).any()\n",
    "\n",
    "print(f\"CO2 Flux: Mean: {mean:.4f}, Std: {std:.4f}, Min: {min_val:.4f}, Max: {max_val:.4f}, Nans: {existNans}\")"
   ]
  },
  {
   "cell_type": "code",
   "execution_count": 12,
   "id": "7517b219",
   "metadata": {},
   "outputs": [
    {
     "name": "stdout",
     "output_type": "stream",
     "text": [
      "CO2 Flux: Mean: 0.3240, Std: 0.8977, Min: -1.5408, Max: 12.8194, Nans: False\n"
     ]
    }
   ],
   "source": [
    "from ocean_basins import get_region\n",
    "\n",
    "region_targets = get_region(targets_array.reshape((72,167,360)), 'ARCTIC')\n",
    "\n",
    "mean = np.mean(region_targets)\n",
    "std = np.std(region_targets)\n",
    "min_val = np.min(region_targets)\n",
    "max_val = np.max(region_targets)\n",
    "existNans = np.isnan(region_targets).any()\n",
    "\n",
    "print(f\"CO2 Flux: Mean: {mean:.4f}, Std: {std:.4f}, Min: {min_val:.4f}, Max: {max_val:.4f}, Nans: {existNans}\")"
   ]
  }
 ],
 "metadata": {
  "kernelspec": {
   "display_name": "env",
   "language": "python",
   "name": "python3"
  },
  "language_info": {
   "codemirror_mode": {
    "name": "ipython",
    "version": 3
   },
   "file_extension": ".py",
   "mimetype": "text/x-python",
   "name": "python",
   "nbconvert_exporter": "python",
   "pygments_lexer": "ipython3",
   "version": "3.11.10"
  }
 },
 "nbformat": 4,
 "nbformat_minor": 5
}
