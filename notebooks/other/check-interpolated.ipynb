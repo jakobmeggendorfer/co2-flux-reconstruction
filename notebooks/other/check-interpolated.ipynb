{
 "cells": [
  {
   "cell_type": "code",
   "execution_count": 6,
   "metadata": {},
   "outputs": [],
   "source": [
    "import pandas as pd\n",
    "from mpl_toolkits.basemap import Basemap\n",
    "import numpy as np\n",
    "from matplotlib import pyplot as plt\n",
    "import os"
   ]
  },
  {
   "cell_type": "code",
   "execution_count": null,
   "metadata": {},
   "outputs": [],
   "source": [
    "import numpy as np\n",
    "import matplotlib.pyplot as plt\n",
    "from mpl_toolkits.basemap import Basemap\n",
    "\n",
    "def plot_feature_on_map(data, month, lower_lat_bound, upper_lat_bound, feature_index, title=\"Feature Map\"):\n",
    "    \"\"\"\n",
    "    Plots a feature from a 3D numpy array on a Basemap.\n",
    "\n",
    "    Parameters:\n",
    "    - data: 3D numpy array of shape (lat, lon, features)\n",
    "    - lower_lat_bound: float, lower latitude bound of the data\n",
    "    - upper_lat_bound: float, upper latitude bound of the data\n",
    "    - feature_index: int, index of the feature to plot\n",
    "    - title: str, title of the plot (optional)\n",
    "    - cmap: str, colormap to use (optional)\n",
    "    \"\"\"\n",
    "    # Get latitude and longitude ranges\n",
    "    n_lat, n_lon = data.shape[0], data.shape[1]\n",
    "    lat_step = (upper_lat_bound - lower_lat_bound) / n_lat\n",
    "    lon_step = 360 / n_lon\n",
    "\n",
    "    lats = np.linspace(lower_lat_bound+lat_step/2, upper_lat_bound-lat_step/2, n_lat)\n",
    "    lons = np.linspace(-180+lon_step/2, 180-lon_step/2, n_lon)\n",
    "\n",
    "    # Meshgrid for plotting\n",
    "    lon_grid, lat_grid = np.meshgrid(lons, lats)\n",
    "\n",
    "    # Extract the feature to plot\n",
    "    feature_data = data[..., feature_index]\n",
    "    # feature_data[feature_data != 1] = 0\n",
    "\n",
    "    # Set up the map\n",
    "    fig, ax = plt.subplots(figsize=(18, 8))\n",
    "    m = Basemap(projection='cyl', llcrnrlat=-90, urcrnrlat=90,\n",
    "                llcrnrlon=-180, urcrnrlon=180, resolution='c', ax=ax)\n",
    "    m.drawcoastlines()\n",
    "\n",
    "    # Plot with pcolormesh\n",
    "    cs = m.pcolormesh(lon_grid, lat_grid, feature_data, vmin=-10,vmax=10, shading='auto', cmap='coolwarm', latlon=True)\n",
    "    plt.colorbar(cs, label=f\"tmask\")\n",
    "    plt.title(title)\n",
    "    plt.tight_layout()\n",
    "    path = '../../' + str(month+1) + '.png'\n",
    "    plt.savefig(path, format='png', dpi=300,  bbox_inches='tight') \n",
    "    plt.close()"
   ]
  },
  {
   "cell_type": "code",
   "execution_count": 10,
   "metadata": {},
   "outputs": [],
   "source": [
    "# data = np.load('../../data/preprocessed_new/1_features.npy')\n",
    "# targets = np.load('../../data/preprocessed_new/1_targets.npy')\n",
    "\n",
    "target_files = [os.path.join('../../data/preprocessed_new/', f\"{i}_targets.npy\") for i in range(1, 13)]\n",
    "monthly_targets = np.stack([np.load(fp) for fp in target_files])\n",
    "\n",
    "\n",
    "for i in range(monthly_targets.shape[0]):\n",
    "    current_month_targets = monthly_targets[i]\n",
    "    plot_feature_on_map(current_month_targets, i, -75, 75, 2, title=\"CO2 Flux Map\")\n",
    "\n",
    "\n"
   ]
  },
  {
   "cell_type": "code",
   "execution_count": 3,
   "metadata": {},
   "outputs": [
    {
     "name": "stdout",
     "output_type": "stream",
     "text": [
      "Feature layer statistics:\n",
      "Mean: 1.2449051104319924\n",
      "Standard deviation: 2.039487802299936\n",
      "Min value: -19.664644241333008\n",
      "Max value: 13.646722793579102\n"
     ]
    }
   ],
   "source": [
    "mask = data[..., 11] == 1\n",
    "feature_layer = targets[..., 2][mask]\n",
    "\n",
    "\n",
    "# Compute basic statistics\n",
    "mean_value = np.mean(feature_layer)\n",
    "std_value = np.std(feature_layer)\n",
    "min_value = np.min(feature_layer)\n",
    "max_value = np.max(feature_layer)\n",
    "\n",
    "print(\"Feature layer statistics:\")\n",
    "print(f\"Mean: {mean_value}\")\n",
    "print(f\"Standard deviation: {std_value}\")\n",
    "print(f\"Min value: {np.min(feature_layer)}\")\n",
    "print(f\"Max value: {np.max(feature_layer)}\")"
   ]
  },
  {
   "cell_type": "code",
   "execution_count": 5,
   "metadata": {},
   "outputs": [],
   "source": [
    "import numpy as np\n",
    "import matplotlib.pyplot as plt\n",
    "from mpl_toolkits.basemap import Basemap\n",
    "\n",
    "def plot_feature_on_map(data, lower_lat_bound, upper_lat_bound, feature_index, title=\"Feature Map\", cmap=\"viridis\"):\n",
    "    \"\"\"\n",
    "    Plots a feature from a 3D numpy array on a Basemap.\n",
    "\n",
    "    Parameters:\n",
    "    - data: 3D numpy array of shape (lat, lon, features)\n",
    "    - lower_lat_bound: float, lower latitude bound of the data\n",
    "    - upper_lat_bound: float, upper latitude bound of the data\n",
    "    - feature_index: int, index of the feature to plot\n",
    "    - title: str, title of the plot (optional)\n",
    "    - cmap: str, colormap to use (optional)\n",
    "    \"\"\"\n",
    "    # Get latitude and longitude ranges\n",
    "    n_lat, n_lon = data.shape[0], data.shape[1]\n",
    "    lat_step = (upper_lat_bound - lower_lat_bound) / n_lat\n",
    "    lon_step = 360 / n_lon\n",
    "\n",
    "    lats = np.linspace(lower_lat_bound+lat_step/2, upper_lat_bound-lat_step/2, n_lat)\n",
    "    lons = np.linspace(-180+lon_step/2, 180-lon_step/2, n_lon)\n",
    "\n",
    "    # Meshgrid for plotting\n",
    "    lon_grid, lat_grid = np.meshgrid(lons, lats)\n",
    "\n",
    "    # Extract the feature to plot\n",
    "    feature_data = data[..., feature_index]\n",
    "    # feature_data[feature_data != 1] = 0\n",
    "\n",
    "    # Set up the map\n",
    "    fig, ax = plt.subplots(figsize=(18, 8))\n",
    "    m = Basemap(projection='cyl', llcrnrlat=-90, urcrnrlat=90,\n",
    "                llcrnrlon=-180, urcrnrlon=180, resolution='c', ax=ax)\n",
    "    m.drawcoastlines()\n",
    "\n",
    "    # Plot with pcolormesh\n",
    "    cs = m.pcolormesh(lon_grid, lat_grid, feature_data, shading='auto', cmap=cmap, latlon=True)\n",
    "    plt.colorbar(cs, label=f\"tmask\")\n",
    "    plt.title(title)\n",
    "    plt.tight_layout()\n",
    "    path = '../../test.png'\n",
    "    plt.savefig(path, format='png', dpi=300,  bbox_inches='tight') \n",
    "    plt.close()"
   ]
  },
  {
   "cell_type": "code",
   "execution_count": 7,
   "metadata": {},
   "outputs": [],
   "source": [
    "plot_feature_on_map(targets, -75, 75, 2, title=\"CO2 Flux Map\", cmap=\"viridis\")"
   ]
  }
 ],
 "metadata": {
  "kernelspec": {
   "display_name": "env",
   "language": "python",
   "name": "python3"
  },
  "language_info": {
   "codemirror_mode": {
    "name": "ipython",
    "version": 3
   },
   "file_extension": ".py",
   "mimetype": "text/x-python",
   "name": "python",
   "nbconvert_exporter": "python",
   "pygments_lexer": "ipython3",
   "version": "3.11.10"
  }
 },
 "nbformat": 4,
 "nbformat_minor": 2
}
