{
 "cells": [
  {
   "cell_type": "code",
   "execution_count": 1,
   "id": "9037268b",
   "metadata": {},
   "outputs": [],
   "source": [
    "# imports\n",
    "import os\n",
    "import numpy as np\n",
    "import tensorflow as tf\n",
    "from sklearn.preprocessing import StandardScaler\n",
    "import matplotlib.pyplot as plt\n",
    "import pandas as pd\n",
    "from datetime import datetime\n",
    "from sklearn.metrics import mean_squared_error\n",
    "from sklearn.metrics import mean_absolute_error\n",
    "import joblib\n",
    "from models.mlp import build_mlp\n",
    "from utils.data_loader import load_for_mlp"
   ]
  },
  {
   "cell_type": "code",
   "execution_count": 2,
   "id": "b72f2af8",
   "metadata": {},
   "outputs": [
    {
     "data": {
      "text/plain": [
       "['../../outputs/mlp/2025-09-23_16-16/scaler.pkl']"
      ]
     },
     "execution_count": 2,
     "metadata": {},
     "output_type": "execute_result"
    }
   ],
   "source": [
    "# load data\n",
    "features, targets = load_for_mlp(start_year=1958, end_year=2018, datasets=[\"exp1\",\"exp3\",\"exp5\"])\n",
    "    \n",
    "mask = features[:, 10] == 1\n",
    "features = np.delete(features, [10], axis=1)\n",
    "features = features[mask]\n",
    "targets = targets[mask]\n",
    "\n",
    "N = 30_000_000  # number of samples you want\n",
    "rng = np.random.default_rng(seed=42)   # seed for reproducibility\n",
    "idx = rng.choice(len(features), size=N, replace=False)\n",
    "\n",
    "filtered_features = features[idx]\n",
    "filtered_targets = targets[idx]\n",
    "\n",
    "X_train = filtered_features[:int(0.8 * len(filtered_features))]\n",
    "Y_train = filtered_targets[:int(0.8 * len(filtered_targets))]\n",
    "X_val = filtered_features[int(0.8 * len(filtered_features)):int(0.9 * len(filtered_features))]\n",
    "Y_val = filtered_targets[int(0.8 * len(filtered_targets)):int(0.9 * len(filtered_targets))]\n",
    "X_test = filtered_features[int(0.9 * len(filtered_features)):]\n",
    "Y_test = filtered_targets[int(0.9 * len(filtered_targets)):]\n",
    "\n",
    "feature_scaler = StandardScaler()\n",
    "\n",
    "X_train = feature_scaler.fit_transform(X_train)\n",
    "X_val = feature_scaler.transform(X_val)\n",
    "X_test = feature_scaler.transform(X_test)\n",
    "\n",
    "# save scaler\n",
    "timestamp = datetime.now().strftime('%Y-%m-%d_%H-%M')\n",
    "folder_path = \"../../outputs/mlp/\" + timestamp\n",
    "os.makedirs(folder_path, exist_ok=True)\n",
    "\n",
    "joblib.dump(feature_scaler, folder_path + '/scaler.pkl')"
   ]
  },
  {
   "cell_type": "code",
   "execution_count": 3,
   "id": "7874baa5",
   "metadata": {},
   "outputs": [],
   "source": [
    "# define model\n",
    "\n",
    "n_epochs = 200\n",
    "batch_size = 512\n",
    "lr = 0.0002\n",
    "baseLayerSize = 512\n",
    "dropoutRate = 0\n",
    "l2_reg = 0.000001\n",
    "\n",
    "model = build_mlp(base_layer_size=baseLayerSize, dropout_rate=dropoutRate, l2_reg=l2_reg, lr=lr)"
   ]
  },
  {
   "cell_type": "code",
   "execution_count": null,
   "id": "bf48ece2",
   "metadata": {},
   "outputs": [
    {
     "name": "stdout",
     "output_type": "stream",
     "text": [
      "Epoch 1/200\n",
      "\u001b[1m46875/46875\u001b[0m \u001b[32m━━━━━━━━━━━━━━━━━━━━\u001b[0m\u001b[37m\u001b[0m \u001b[1m886s\u001b[0m 19ms/step - loss: 0.1516 - mae: 0.2401 - val_loss: 0.1089 - val_mae: 0.1931 - learning_rate: 2.0000e-04\n",
      "Epoch 2/200\n",
      "\u001b[1m41560/46875\u001b[0m \u001b[32m━━━━━━━━━━━━━━━━━\u001b[0m\u001b[37m━━━\u001b[0m \u001b[1m1:32\u001b[0m 17ms/step - loss: 0.1091 - mae: 0.2033"
     ]
    }
   ],
   "source": [
    "# start training\n",
    "\n",
    "early_stopping = tf.keras.callbacks.EarlyStopping(monitor='val_loss', patience=5, restore_best_weights=True)\n",
    "lr_scheduler = tf.keras.callbacks.ReduceLROnPlateau(monitor='val_loss', factor=0.5, patience=3, min_lr=1e-7)\n",
    " \n",
    "history = model.fit(\n",
    "    X_train,\n",
    "    Y_train,\n",
    "    epochs=n_epochs,             \n",
    "    batch_size=batch_size,          \n",
    "    validation_data=(X_val, Y_val),\n",
    "    callbacks=[early_stopping, lr_scheduler])"
   ]
  },
  {
   "cell_type": "code",
   "execution_count": null,
   "id": "53111166",
   "metadata": {},
   "outputs": [
    {
     "data": {
      "image/png": "[encoded data removed]",
      "text/plain": [
       "<Figure size 640x480 with 1 Axes>"
      ]
     },
     "metadata": {},
     "output_type": "display_data"
    }
   ],
   "source": [
    "# save model\n",
    "model.save(folder_path + \"/model.keras\")\n",
    "\n",
    "#  save training history\n",
    "plt.plot(history.history['loss'], color = 'blue', label = 'training loss')\n",
    "plt.plot(history.history['val_loss'], color = 'red', label = 'validation loss')\n",
    "plt.xlabel('Epoch number')\n",
    "plt.ylabel('Loss')\n",
    "plt.title('Training and validation loss')\n",
    "plt.grid(True)\n",
    "plt.legend()\n",
    "\n",
    "path = folder_path + '/training_history.png'\n",
    "plt.savefig(path, format='png', dpi=300)\n",
    "plt.show()  "
   ]
  },
  {
   "cell_type": "code",
   "execution_count": null,
   "id": "345da6be",
   "metadata": {},
   "outputs": [
    {
     "name": "stdout",
     "output_type": "stream",
     "text": [
      "\u001b[1m4/4\u001b[0m \u001b[32m━━━━━━━━━━━━━━━━━━━━\u001b[0m\u001b[37m\u001b[0m \u001b[1m0s\u001b[0m 13ms/step\n",
      "Mean Squared Error: 1.521\n",
      "Mean Absolute Error: 0.785\n"
     ]
    }
   ],
   "source": [
    "test_pred = model.predict(X_test)\n",
    "\n",
    "mse = mean_squared_error(test_pred, Y_test)\n",
    "mae = mean_absolute_error(test_pred, Y_test)\n",
    "print(f\"Mean Squared Error: {mse:.3f}\")\n",
    "print(f\"Mean Absolute Error: {mae:.3f}\")"
   ]
  },
  {
   "cell_type": "code",
   "execution_count": null,
   "id": "64a4aae6",
   "metadata": {},
   "outputs": [
    {
     "ename": "ValueError",
     "evalue": "File not found: filepath=../../outputs/mlp/2025-09-23_14-57/model.keras. Please ensure the file is an accessible `.keras` zip file.",
     "output_type": "error",
     "traceback": [
      "\u001b[31m---------------------------------------------------------------------------\u001b[39m",
      "\u001b[31mValueError\u001b[39m                                Traceback (most recent call last)",
      "\u001b[36mCell\u001b[39m\u001b[36m \u001b[39m\u001b[32mIn[8]\u001b[39m\u001b[32m, line 3\u001b[39m\n\u001b[32m      1\u001b[39m \u001b[38;5;28;01mfrom\u001b[39;00m\u001b[38;5;250m \u001b[39m\u001b[34;01mutils\u001b[39;00m\u001b[34;01m.\u001b[39;00m\u001b[34;01mmodel_analysis\u001b[39;00m\u001b[38;5;250m \u001b[39m\u001b[38;5;28;01mimport\u001b[39;00m complete_model_analysis_mlp\n\u001b[32m----> \u001b[39m\u001b[32m3\u001b[39m \u001b[43mcomplete_model_analysis_mlp\u001b[49m\u001b[43m(\u001b[49m\u001b[33;43m\"\u001b[39;49m\u001b[33;43m../../outputs/mlp/2025-09-23_14-57\u001b[39;49m\u001b[33;43m\"\u001b[39;49m\u001b[43m,\u001b[49m\u001b[33;43m\"\u001b[39;49m\u001b[33;43mexp1\u001b[39;49m\u001b[33;43m\"\u001b[39;49m\u001b[43m)\u001b[49m\n\u001b[32m      4\u001b[39m \u001b[38;5;66;03m# complete_model_analysis_mlp(folder_path,\"exp1\")\u001b[39;00m\n",
      "\u001b[36mFile \u001b[39m\u001b[32m~/Documents/CAU/Masterarbeit/master-thesis/src/utils/model_analysis.py:369\u001b[39m, in \u001b[36mcomplete_model_analysis_mlp\u001b[39m\u001b[34m(model_path, dataset_id)\u001b[39m\n\u001b[32m    366\u001b[39m     plot_yearly_analysis(Y_test, pred_masked, \u001b[33m\"\u001b[39m\u001b[33mEQ_PACIFIC\u001b[39m\u001b[33m\"\u001b[39m, path, start_year)\n\u001b[32m    367\u001b[39m     plot_yearly_analysis(Y_test, pred_masked, \u001b[33m\"\u001b[39m\u001b[33mSOUTHERN_OCEAN\u001b[39m\u001b[33m\"\u001b[39m, path, start_year)\n\u001b[32m--> \u001b[39m\u001b[32m369\u001b[39m \u001b[38;5;28;01mdef\u001b[39;00m\u001b[38;5;250m \u001b[39m\u001b[34mcomplete_model_analysis_mlp\u001b[39m(model_path, dataset_id):\n\u001b[32m    370\u001b[39m \n\u001b[32m    371\u001b[39m     \u001b[38;5;66;03m# load model\u001b[39;00m\n\u001b[32m    372\u001b[39m     model = tf.keras.models.load_model(model_path + \u001b[33m\"\u001b[39m\u001b[33m/model.keras\u001b[39m\u001b[33m\"\u001b[39m)\n\u001b[32m    374\u001b[39m     \u001b[38;5;66;03m# load and prepare data\u001b[39;00m\n",
      "\u001b[36mFile \u001b[39m\u001b[32m~/Documents/CAU/Masterarbeit/master-thesis/venv/lib/python3.11/site-packages/keras/src/saving/saving_api.py:200\u001b[39m, in \u001b[36mload_model\u001b[39m\u001b[34m(filepath, custom_objects, compile, safe_mode)\u001b[39m\n\u001b[32m    196\u001b[39m     \u001b[38;5;28;01mreturn\u001b[39;00m legacy_h5_format.load_model_from_hdf5(\n\u001b[32m    197\u001b[39m         filepath, custom_objects=custom_objects, \u001b[38;5;28mcompile\u001b[39m=\u001b[38;5;28mcompile\u001b[39m\n\u001b[32m    198\u001b[39m     )\n\u001b[32m    199\u001b[39m \u001b[38;5;28;01melif\u001b[39;00m \u001b[38;5;28mstr\u001b[39m(filepath).endswith(\u001b[33m\"\u001b[39m\u001b[33m.keras\u001b[39m\u001b[33m\"\u001b[39m):\n\u001b[32m--> \u001b[39m\u001b[32m200\u001b[39m     \u001b[38;5;28;01mraise\u001b[39;00m \u001b[38;5;167;01mValueError\u001b[39;00m(\n\u001b[32m    201\u001b[39m         \u001b[33mf\u001b[39m\u001b[33m\"\u001b[39m\u001b[33mFile not found: filepath=\u001b[39m\u001b[38;5;132;01m{\u001b[39;00mfilepath\u001b[38;5;132;01m}\u001b[39;00m\u001b[33m. \u001b[39m\u001b[33m\"\u001b[39m\n\u001b[32m    202\u001b[39m         \u001b[33m\"\u001b[39m\u001b[33mPlease ensure the file is an accessible `.keras` \u001b[39m\u001b[33m\"\u001b[39m\n\u001b[32m    203\u001b[39m         \u001b[33m\"\u001b[39m\u001b[33mzip file.\u001b[39m\u001b[33m\"\u001b[39m\n\u001b[32m    204\u001b[39m     )\n\u001b[32m    205\u001b[39m \u001b[38;5;28;01melse\u001b[39;00m:\n\u001b[32m    206\u001b[39m     \u001b[38;5;28;01mraise\u001b[39;00m \u001b[38;5;167;01mValueError\u001b[39;00m(\n\u001b[32m    207\u001b[39m         \u001b[33mf\u001b[39m\u001b[33m\"\u001b[39m\u001b[33mFile format not supported: filepath=\u001b[39m\u001b[38;5;132;01m{\u001b[39;00mfilepath\u001b[38;5;132;01m}\u001b[39;00m\u001b[33m. \u001b[39m\u001b[33m\"\u001b[39m\n\u001b[32m    208\u001b[39m         \u001b[33m\"\u001b[39m\u001b[33mKeras 3 only supports V3 `.keras` files and \u001b[39m\u001b[33m\"\u001b[39m\n\u001b[32m   (...)\u001b[39m\u001b[32m    217\u001b[39m         \u001b[33m\"\u001b[39m\u001b[33mmight have a different name).\u001b[39m\u001b[33m\"\u001b[39m\n\u001b[32m    218\u001b[39m     )\n",
      "\u001b[31mValueError\u001b[39m: File not found: filepath=../../outputs/mlp/2025-09-23_14-57/model.keras. Please ensure the file is an accessible `.keras` zip file."
     ]
    }
   ],
   "source": [
    "from utils.model_analysis import complete_model_analysis_mlp\n",
    "\n",
    "# complete_model_analysis_mlp(\"../../outputs/mlp/2025-09-23_14-57\",\"exp1\")\n",
    "complete_model_analysis_mlp(folder_path,\"exp1\")\n",
    "complete_model_analysis_mlp(folder_path,\"exp3\")\n",
    "complete_model_analysis_mlp(folder_path,\"exp5\")\n"
   ]
  }
 ],
 "metadata": {
  "kernelspec": {
   "display_name": "venv",
   "language": "python",
   "name": "python3"
  },
  "language_info": {
   "codemirror_mode": {
    "name": "ipython",
    "version": 3
   },
   "file_extension": ".py",
   "mimetype": "text/x-python",
   "name": "python",
   "nbconvert_exporter": "python",
   "pygments_lexer": "ipython3",
   "version": "3.11.10"
  }
 },
 "nbformat": 4,
 "nbformat_minor": 5
}
