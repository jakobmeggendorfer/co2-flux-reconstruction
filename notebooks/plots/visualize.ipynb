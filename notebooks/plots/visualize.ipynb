{
 "cells": [
  {
   "cell_type": "code",
   "execution_count": 1,
   "id": "05932490",
   "metadata": {},
   "outputs": [],
   "source": [
    "import visualkeras\n",
    "import tensorflow as tf\n",
    "\n",
    "folder_path = \"../output/u-net/2025-09-15_09-27\"\n",
    "\n",
    "model = tf.keras.models.load_model(f\"{folder_path}/model.keras\")"
   ]
  },
  {
   "cell_type": "code",
   "execution_count": null,
   "id": "dd46743f",
   "metadata": {},
   "outputs": [],
   "source": [
    "def text_callable(layer_index, layer):\n",
    "    # Every other piece of text is drawn above the layer, the first one below\n",
    "    above = bool(layer_index%2)\n",
    "\n",
    "    # Get the output shape of the layer\n",
    "    if hasattr(layer, 'output_shape'):\n",
    "        # ───────────────────────────────\n",
    "        # Legacy Keras (standalone 2.x) or TF-Keras <2.11\n",
    "        # ───────────────────────────────\n",
    "        # this will work so long as `layer.output_shape` exists\n",
    "        output_shape = [x for x in list(layer.output.shape) if x is not None]\n",
    "    else:\n",
    "        # ───────────────────────────────\n",
    "        # Modern TF-Keras (>= 2.11) – attribute removed\n",
    "        # ───────────────────────────────\n",
    "        output_shape = layer.output.shape\n",
    "\n",
    "    # If the output shape is a list of tuples, we only take the first one\n",
    "    if isinstance(output_shape[0], tuple):\n",
    "        output_shape = list(output_shape[0])\n",
    "        output_shape = [x for x in output_shape if x is not None]\n",
    "\n",
    "    # Variable to store text which will be drawn    \n",
    "    output_shape_txt = \"\"\n",
    "\n",
    "    # Create a string representation of the output shape\n",
    "    for ii in range(len(output_shape)):\n",
    "        if ii == 0: # Skip the batch size dimension, e.g. (None, 3, 3, 64) -> 3x3x64\n",
    "            continue\n",
    "        output_shape_txt += str(output_shape[ii])\n",
    "        if ii <= len(output_shape) - 2: # Add an x between dimensions, e.g. 3x3\n",
    "            output_shape_txt += \"x\"\n",
    "        if ii == len(output_shape) - 1: # Add a newline between the last two dimensions, e.g. 3x3 \\n 64\n",
    "            output_shape_txt += \"\\n\"\n",
    "\n",
    "    # Add the name of the layer to the text, as a new line\n",
    "    #output_shape_txt += f\"\\n{layer.name}\"\n",
    "\n",
    "    # Return the text value and if it should be drawn above the layer\n",
    "    if layer_index not in [0,1, 14, 19, 25, 30, 38, 46, 55]:\n",
    "        output_shape_txt = \"\"\n",
    "    if layer_index in [0, 55]:\n",
    "         return output_shape_txt, False\n",
    "    return output_shape_txt, True"
   ]
  },
  {
   "cell_type": "code",
   "execution_count": null,
   "id": "e369b9ec",
   "metadata": {},
   "outputs": [
    {
     "name": "stderr",
     "output_type": "stream",
     "text": [
      "/Users/jakobmeggendorfer/Documents/CAU/Masterarbeit/master-thesis/env/lib/python3.11/site-packages/visualkeras/layered.py:86: UserWarning: The legend_text_spacing_offset parameter is deprecated and will be removed in a future release.\n",
      "  warnings.warn(\"The legend_text_spacing_offset parameter is deprecated and will be removed in a future release.\")\n"
     ]
    }
   ],
   "source": [
    "from PIL import ImageFont\n",
    "from tensorflow.python.keras.layers import Dense, Conv2D, Flatten, Dropout, MaxPooling2D, ZeroPadding2D\n",
    "\n",
    "\n",
    "font = ImageFont.load_default(size=40)\n",
    "\n",
    "visualkeras.layered_view(model, legend=True, text_callable=text_callable, font=font, type_ignore=[ZeroPadding2D, Dropout, Flatten], padding=100,text_vspacing=15,spacing=30).show()"
   ]
  },
  {
   "cell_type": "code",
   "execution_count": null,
   "id": "ddcdb1a3",
   "metadata": {},
   "outputs": [],
   "source": []
  }
 ],
 "metadata": {
  "kernelspec": {
   "display_name": "env",
   "language": "python",
   "name": "python3"
  },
  "language_info": {
   "codemirror_mode": {
    "name": "ipython",
    "version": 3
   },
   "file_extension": ".py",
   "mimetype": "text/x-python",
   "name": "python",
   "nbconvert_exporter": "python",
   "pygments_lexer": "ipython3",
   "version": "3.11.10"
  }
 },
 "nbformat": 4,
 "nbformat_minor": 5
}
