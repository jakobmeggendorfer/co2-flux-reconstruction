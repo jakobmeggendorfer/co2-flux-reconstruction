{
 "cells": [
  {
   "cell_type": "code",
   "execution_count": null,
   "id": "77f8cc3c",
   "metadata": {},
   "outputs": [],
   "source": [
    "from utils.ocean_basins import get_zoned_df\n",
    "import pandas as pd\n",
    "import matplotlib.pyplot as plt\n",
    "import numpy as np\n",
    "from mpl_toolkits.basemap import Basemap"
   ]
  },
  {
   "cell_type": "code",
   "execution_count": null,
   "id": "6e1a8126",
   "metadata": {},
   "outputs": [],
   "source": [
    "features = ['SST', 'SAL', 'ice_frac', 'mixed_layer_depth', 'heat_flux_down', 'water_flux_up', 'stress_X', 'stress_Y', 'currents_X', 'currents_Y','fco2','fco2_pre','co2flux','co2flux_pre']\n",
    "\n",
    "data_1960 = pd.read_pickle('../../../../../../../Volumes/T7 Shield/exp_1/ORCA025.L46.LIM2vp.CFCSF6.MOPS.JRA.LP04-KLP002.hind_1960_df.pkl')\n",
    "data_2015 = pd.read_pickle('../../../../../../../Volumes/T7 Shield/exp_1/ORCA025.L46.LIM2vp.CFCSF6.MOPS.JRA.LP04-KLP002.hind_2015_df.pkl')\n",
    "data_1960[\"month\"] = data_1960[\"time_counter\"].apply(lambda x: x.month)\n",
    "data_2015[\"month\"] = data_2015[\"time_counter\"].apply(lambda x: x.month)\n",
    "\n",
    "months = [1,4,7,10]\n",
    "month_labels = ['','January','','','April','','','July','','','October','','']\n",
    "region_labels = ['Arctic','North Atlantic','Equatorial Pacific','Southern Ocean']\n",
    "\n",
    "datasets = {\n",
    "    \"1960\": data_1960,\n",
    "    \"2015\": data_2015\n",
    "}"
   ]
  },
  {
   "cell_type": "code",
   "execution_count": null,
   "id": "d7869d80",
   "metadata": {},
   "outputs": [],
   "source": [
    "for year_label, df in datasets.items():\n",
    "    regions = get_zoned_df(df)  # returns a list of 4 DataFrames\n",
    "\n",
    "    for region_idx, region_df in enumerate(regions):\n",
    "        for month in months:\n",
    "            # Filter by month\n",
    "            month_df = region_df[region_df['month'] == month]\n",
    "            corr_df = month_df[features].corr().loc[features, features]\n",
    "\n",
    "           # Compute correlation matrix\n",
    "            corr_matrix = corr_df.corr()\n",
    "\n",
    "            # Plot heatmap\n",
    "            fig, ax = plt.subplots(figsize=(10, 8))\n",
    "            cax = ax.imshow(corr_matrix, cmap='coolwarm', vmin=-1, vmax=1)\n",
    "\n",
    "            # Add colorbar\n",
    "            fig.colorbar(cax)\n",
    "\n",
    "            # Set ticks\n",
    "            ax.set_xticks(np.arange(len(features)))\n",
    "            ax.set_yticks(np.arange(len(features)))\n",
    "            ax.set_xticklabels(features, rotation=45, ha='right')\n",
    "            ax.set_yticklabels(features)\n",
    "\n",
    "            # Add correlation values in the cells\n",
    "            for i in range(len(features)):\n",
    "                for j in range(len(features)):\n",
    "                    text = f\"{corr_matrix.iloc[i, j]:.2f}\"\n",
    "                    ax.text(j, i, text, ha='center', va='center', color='black', fontsize=7)\n",
    "\n",
    "            print(region_labels[region_idx])\n",
    "            print(month_labels[month])\n",
    "\n",
    "            ax.set_title(\"Correlation Heatmap \" + region_labels[region_idx] + \" \" + month_labels[month] + \" \" + year_label)\n",
    "            plt.tight_layout()\n",
    "            plt.savefig(\"../plots/general/heatmaps/heatmap_\" + region_labels[region_idx] + \"_\" + month_labels[month] + \"_\" + year_label + \".png\", dpi=300, bbox_inches='tight')"
   ]
  }
 ],
 "metadata": {
  "language_info": {
   "name": "python"
  }
 },
 "nbformat": 4,
 "nbformat_minor": 5
}
