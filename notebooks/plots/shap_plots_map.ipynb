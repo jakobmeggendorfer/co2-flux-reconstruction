{
 "cells": [
  {
   "cell_type": "code",
   "execution_count": 1,
   "id": "b4a9ba1c",
   "metadata": {},
   "outputs": [
    {
     "name": "stderr",
     "output_type": "stream",
     "text": [
      "/Users/jakobmeggendorfer/Documents/CAU/Masterarbeit/master-thesis/venv/lib/python3.11/site-packages/tqdm/auto.py:21: TqdmWarning: IProgress not found. Please update jupyter and ipywidgets. See https://ipywidgets.readthedocs.io/en/stable/user_install.html\n",
      "  from .autonotebook import tqdm as notebook_tqdm\n"
     ]
    }
   ],
   "source": [
    "import tensorflow as tf\n",
    "from joblib import load\n",
    "from utils.model_analysis import  plot_shap_over_time\n",
    "from utils.data_loader import load_as_maps"
   ]
  },
  {
   "cell_type": "code",
   "execution_count": 2,
   "id": "835faa8f",
   "metadata": {},
   "outputs": [],
   "source": [
    "model_path = \"../../outputs/u-net/2025-09-23_15-21\"    \n",
    "dataset_id = \"exp1\"\n",
    "\n",
    "# load model\n",
    "model = tf.keras.models.load_model(model_path + \"/model.keras\")\n",
    "\n",
    "# load and prepare data\n",
    "X_test, Y_test = load_as_maps(start_year=2014, end_year=2015, datasets=[dataset_id])\n",
    "map_mask = X_test[0,:,:, 11] == 1\n",
    "\n",
    "scaler = load(model_path + '/scaler.pkl')\n",
    "n_samples, h, w, n_features = X_test.shape\n",
    "X_test_flat = X_test.reshape(-1,n_features)\n",
    "X_test_scaled_flat = scaler.transform(X_test_flat)\n",
    "X_test = X_test_scaled_flat.reshape(n_samples, h, w, n_features)"
   ]
  },
  {
   "cell_type": "code",
   "execution_count": 3,
   "id": "3d65d283",
   "metadata": {},
   "outputs": [
    {
     "name": "stdout",
     "output_type": "stream",
     "text": [
      "(24, 167, 360, 13)\n",
      "(167, 360)\n",
      "12\n"
     ]
    },
    {
     "ename": "IndexError",
     "evalue": "list index out of range",
     "output_type": "error",
     "traceback": [
      "\u001b[31m---------------------------------------------------------------------------\u001b[39m",
      "\u001b[31mIndexError\u001b[39m                                Traceback (most recent call last)",
      "\u001b[36mCell\u001b[39m\u001b[36m \u001b[39m\u001b[32mIn[3]\u001b[39m\u001b[32m, line 8\u001b[39m\n\u001b[32m      5\u001b[39m \u001b[38;5;28mprint\u001b[39m(X_test.shape)\n\u001b[32m      6\u001b[39m \u001b[38;5;28mprint\u001b[39m(map_mask.shape)\n\u001b[32m----> \u001b[39m\u001b[32m8\u001b[39m mean_abs_shap, names = \u001b[43mplot_shap_over_time\u001b[49m\u001b[43m(\u001b[49m\n\u001b[32m      9\u001b[39m \u001b[43m    \u001b[49m\u001b[43mmodel\u001b[49m\u001b[43m,\u001b[49m\u001b[43m \u001b[49m\u001b[43mX_test\u001b[49m\u001b[43m,\u001b[49m\u001b[43m \u001b[49m\u001b[43mmap_mask\u001b[49m\u001b[43m,\u001b[49m\u001b[43m \u001b[49m\u001b[43mfeature_names\u001b[49m\u001b[43m=\u001b[49m\u001b[43mfeature_names\u001b[49m\u001b[43m,\u001b[49m\n\u001b[32m     10\u001b[39m \u001b[43m    \u001b[49m\u001b[43mbg_per_time\u001b[49m\u001b[43m=\u001b[49m\u001b[32;43m10\u001b[39;49m\u001b[43m,\u001b[49m\u001b[43m            \u001b[49m\u001b[38;5;66;43;03m# small background per time step\u001b[39;49;00m\n\u001b[32m     11\u001b[39m \u001b[43m    \u001b[49m\u001b[43mmax_samples_per_time\u001b[49m\u001b[43m=\u001b[49m\u001b[32;43m20\u001b[39;49m\u001b[43m,\u001b[49m\u001b[43m \u001b[49m\u001b[38;5;66;43;03m# subsample for speed (optional)\u001b[39;49;00m\n\u001b[32m     12\u001b[39m \u001b[43m    \u001b[49m\u001b[38;5;66;43;03m# batch_size=4096,\u001b[39;49;00m\n\u001b[32m     13\u001b[39m \u001b[43m    \u001b[49m\u001b[43mregion_id\u001b[49m\u001b[43m=\u001b[49m\u001b[33;43m'\u001b[39;49m\u001b[33;43mARCTIC\u001b[39;49m\u001b[33;43m'\u001b[39;49m\u001b[43m,\u001b[49m\n\u001b[32m     14\u001b[39m \u001b[43m    \u001b[49m\u001b[38;5;28;43mtype\u001b[39;49m\u001b[43m=\u001b[49m\u001b[33;43m'\u001b[39;49m\u001b[33;43mSEASONAL\u001b[39;49m\u001b[33;43m'\u001b[39;49m\n\u001b[32m     15\u001b[39m \u001b[43m)\u001b[49m\n",
      "\u001b[36mFile \u001b[39m\u001b[32m~/Documents/CAU/Masterarbeit/master-thesis/src/utils/model_analysis.py:79\u001b[39m, in \u001b[36mplot_shap_over_time\u001b[39m\u001b[34m(model, X, mask, feature_names, bg_per_time, max_samples_per_time, batch_size, verbose, region_id, type)\u001b[39m\n\u001b[32m     76\u001b[39m \u001b[38;5;28;01melse\u001b[39;00m:\n\u001b[32m     77\u001b[39m     X_t_eval = X_t\n\u001b[32m---> \u001b[39m\u001b[32m79\u001b[39m sv = \u001b[43mexplainer\u001b[49m\u001b[43m(\u001b[49m\u001b[43mX_t_eval\u001b[49m\u001b[43m)\u001b[49m           \u001b[38;5;66;03m# sv.values shape: (M, F)\u001b[39;00m\n\u001b[32m     80\u001b[39m vals = np.abs(sv.values)           \u001b[38;5;66;03m# mean absolute SHAP per feature\u001b[39;00m\n\u001b[32m     81\u001b[39m mean_abs_shap[t] = vals.mean(axis=\u001b[32m0\u001b[39m)\n",
      "\u001b[36mFile \u001b[39m\u001b[32m~/Documents/CAU/Masterarbeit/master-thesis/venv/lib/python3.11/site-packages/shap/explainers/_permutation.py:100\u001b[39m, in \u001b[36mPermutationExplainer.__call__\u001b[39m\u001b[34m(self, max_evals, main_effects, error_bounds, batch_size, outputs, silent, *args)\u001b[39m\n\u001b[32m     89\u001b[39m \u001b[38;5;28;01mdef\u001b[39;00m\u001b[38;5;250m \u001b[39m\u001b[34m__call__\u001b[39m(\n\u001b[32m     90\u001b[39m     \u001b[38;5;28mself\u001b[39m,\n\u001b[32m     91\u001b[39m     *args,\n\u001b[32m   (...)\u001b[39m\u001b[32m     97\u001b[39m     silent=\u001b[38;5;28;01mFalse\u001b[39;00m,\n\u001b[32m     98\u001b[39m ):\n\u001b[32m     99\u001b[39m \u001b[38;5;250m    \u001b[39m\u001b[33;03m\"\"\"Explain the output of the model on the given arguments.\"\"\"\u001b[39;00m\n\u001b[32m--> \u001b[39m\u001b[32m100\u001b[39m     \u001b[38;5;28;01mreturn\u001b[39;00m \u001b[38;5;28;43msuper\u001b[39;49m\u001b[43m(\u001b[49m\u001b[43m)\u001b[49m\u001b[43m.\u001b[49m\u001b[34;43m__call__\u001b[39;49m\u001b[43m(\u001b[49m\n\u001b[32m    101\u001b[39m \u001b[43m        \u001b[49m\u001b[43m*\u001b[49m\u001b[43margs\u001b[49m\u001b[43m,\u001b[49m\n\u001b[32m    102\u001b[39m \u001b[43m        \u001b[49m\u001b[43mmax_evals\u001b[49m\u001b[43m=\u001b[49m\u001b[43mmax_evals\u001b[49m\u001b[43m,\u001b[49m\n\u001b[32m    103\u001b[39m \u001b[43m        \u001b[49m\u001b[43mmain_effects\u001b[49m\u001b[43m=\u001b[49m\u001b[43mmain_effects\u001b[49m\u001b[43m,\u001b[49m\n\u001b[32m    104\u001b[39m \u001b[43m        \u001b[49m\u001b[43merror_bounds\u001b[49m\u001b[43m=\u001b[49m\u001b[43merror_bounds\u001b[49m\u001b[43m,\u001b[49m\n\u001b[32m    105\u001b[39m \u001b[43m        \u001b[49m\u001b[43mbatch_size\u001b[49m\u001b[43m=\u001b[49m\u001b[43mbatch_size\u001b[49m\u001b[43m,\u001b[49m\n\u001b[32m    106\u001b[39m \u001b[43m        \u001b[49m\u001b[43moutputs\u001b[49m\u001b[43m=\u001b[49m\u001b[43moutputs\u001b[49m\u001b[43m,\u001b[49m\n\u001b[32m    107\u001b[39m \u001b[43m        \u001b[49m\u001b[43msilent\u001b[49m\u001b[43m=\u001b[49m\u001b[43msilent\u001b[49m\u001b[43m,\u001b[49m\n\u001b[32m    108\u001b[39m \u001b[43m    \u001b[49m\u001b[43m)\u001b[49m\n",
      "\u001b[36mFile \u001b[39m\u001b[32m~/Documents/CAU/Masterarbeit/master-thesis/venv/lib/python3.11/site-packages/shap/explainers/_explainer.py:401\u001b[39m, in \u001b[36mExplainer.__call__\u001b[39m\u001b[34m(self, max_evals, main_effects, error_bounds, batch_size, outputs, silent, *args, **kwargs)\u001b[39m\n\u001b[32m    398\u001b[39m         pos += mask_length\n\u001b[32m    400\u001b[39m \u001b[38;5;66;03m# collapse the arrays as possible\u001b[39;00m\n\u001b[32m--> \u001b[39m\u001b[32m401\u001b[39m expected_values = \u001b[43mpack_values\u001b[49m\u001b[43m(\u001b[49m\u001b[43mexpected_values\u001b[49m\u001b[43m)\u001b[49m\n\u001b[32m    402\u001b[39m main_effects = pack_values(main_effects)\n\u001b[32m    403\u001b[39m output_indices = pack_values(output_indices)\n",
      "\u001b[36mFile \u001b[39m\u001b[32m~/Documents/CAU/Masterarbeit/master-thesis/venv/lib/python3.11/site-packages/shap/explainers/_explainer.py:537\u001b[39m, in \u001b[36mpack_values\u001b[39m\u001b[34m(values)\u001b[39m\n\u001b[32m    534\u001b[39m     \u001b[38;5;28;01mreturn\u001b[39;00m values\n\u001b[32m    536\u001b[39m \u001b[38;5;66;03m# collapse the values if we didn't compute them\u001b[39;00m\n\u001b[32m--> \u001b[39m\u001b[32m537\u001b[39m \u001b[38;5;28;01mif\u001b[39;00m values \u001b[38;5;129;01mis\u001b[39;00m \u001b[38;5;28;01mNone\u001b[39;00m \u001b[38;5;129;01mor\u001b[39;00m \u001b[43mvalues\u001b[49m\u001b[43m[\u001b[49m\u001b[32;43m0\u001b[39;49m\u001b[43m]\u001b[49m \u001b[38;5;129;01mis\u001b[39;00m \u001b[38;5;28;01mNone\u001b[39;00m:\n\u001b[32m    538\u001b[39m     \u001b[38;5;28;01mreturn\u001b[39;00m \u001b[38;5;28;01mNone\u001b[39;00m\n\u001b[32m    540\u001b[39m \u001b[38;5;66;03m# convert to a single numpy matrix when the array is not ragged\u001b[39;00m\n",
      "\u001b[31mIndexError\u001b[39m: list index out of range"
     ]
    }
   ],
   "source": [
    "# plot feature importance over time per basin\n",
    "\n",
    "feature_names = ['SST', 'SAL', 'ice_frac', 'mixed_layer_depth', 'heat_flux_down', 'water_flux_up', 'stress_X', 'stress_Y', 'currents_X', 'currents_Y','mask','month-sin','month-cos']\n",
    "\n",
    "print(X_test.shape)\n",
    "print(map_mask.shape)\n",
    "\n",
    "mean_abs_shap, names = plot_shap_over_time(\n",
    "    model, X_test, map_mask, feature_names=feature_names,\n",
    "    bg_per_time=10,            # small background per time step\n",
    "    max_samples_per_time=20, # subsample for speed (optional)\n",
    "    # batch_size=4096,\n",
    "    region_id='ARCTIC',\n",
    "    type='SEASONAL'\n",
    ")"
   ]
  }
 ],
 "metadata": {
  "kernelspec": {
   "display_name": "venv",
   "language": "python",
   "name": "python3"
  },
  "language_info": {
   "codemirror_mode": {
    "name": "ipython",
    "version": 3
   },
   "file_extension": ".py",
   "mimetype": "text/x-python",
   "name": "python",
   "nbconvert_exporter": "python",
   "pygments_lexer": "ipython3",
   "version": "3.11.10"
  }
 },
 "nbformat": 4,
 "nbformat_minor": 5
}
