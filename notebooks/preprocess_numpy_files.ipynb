{
 "cells": [
  {
   "cell_type": "code",
   "execution_count": 47,
   "metadata": {},
   "outputs": [],
   "source": [
    "import os\n",
    "import pandas as pd\n",
    "import numpy as np\n",
    "from sklearn.preprocessing import MinMaxScaler\n",
    "import joblib"
   ]
  },
  {
   "cell_type": "code",
   "execution_count": 54,
   "metadata": {},
   "outputs": [],
   "source": [
    "folder_path = \"../../../../../../../Volumes/T7 Shield/exp_1\"\n",
    "output_path = \"../data/preprocessed_data\"\n",
    "\n",
    "features = ['SST', 'SAL', 'ice_frac', 'mixed_layer_depth', 'heat_flux_down', \n",
    "            'water_flux_up', 'stress_X', 'stress_Y', 'currents_X', 'currents_Y', \n",
    "            'nav_lat', 'nav_lon', 'month','tmask','year']\n",
    "features_to_scale = ['SST', 'SAL', 'ice_frac', 'mixed_layer_depth', 'heat_flux_down', \n",
    "            'water_flux_up', 'stress_X', 'stress_Y', 'currents_X', 'currents_Y', \n",
    "            'nav_lat', 'nav_lon','year']\n",
    "targets = ['fco2','fco2_pre','co2flux','co2flux_pre']\n",
    "\n",
    "scaler = MinMaxScaler()\n",
    "\n",
    "def setUpScaler():\n",
    "    file_1959 = os.path.join(folder_path, f\"ORCA025.L46.LIM2vp.CFCSF6.MOPS.JRA.LP04-KLP002.hind_1959_df.pkl\")\n",
    "    # file_2018 = os.path.join(folder_path, f\"ORCA025.L46.LIM2vp.CFCSF6.MOPS.JRA.LP04-KLP002.hind_2018_df.pkl\")\n",
    "    data_1959 = pd.read_pickle(file_1959)\n",
    "    # data_2018 = pd.read_pickle(file_2018)\n",
    "    data_1959[\"year\"] = 1959\n",
    "    # data_2018[\"year\"] = 2018\n",
    "\n",
    "    df = data_1959\n",
    "    # df = pd.concat([data_1959,data_2018], ignore_index=True)\n",
    "    df[\"month\"] = df[\"time_counter\"].apply(lambda x: x.month)\n",
    "    \n",
    "    scaler.fit(df[features_to_scale])\n",
    "    # Save the fitted scaler\n",
    "    joblib.dump(scaler, 'scaler.pkl')\n",
    "\n",
    "def preprocess_and_store(year):\n",
    "    input_file = os.path.join(folder_path, f\"ORCA025.L46.LIM2vp.CFCSF6.MOPS.JRA.LP04-KLP002.hind_{year}_df.pkl\")\n",
    "    df = pd.read_pickle(input_file)\n",
    "\n",
    "    df[\"year\"] = year\n",
    "    df[\"month\"] = df[\"time_counter\"].apply(lambda x: x.month)\n",
    "    df = df[features+targets+['x','y']]\n",
    "\n",
    "    df.loc[df['tmask'] == 0, 'fco2_pre'] = 0\n",
    "    df.loc[df['tmask'] == 0, 'fco2'] = 0\n",
    "\n",
    "    scaler_loaded = joblib.load('scaler.pkl')\n",
    "    df[features_to_scale] = scaler_loaded.transform(df[features_to_scale])\n",
    "\n",
    "    features_array = np.full((1442, 1021, len(features)), np.nan, dtype=np.float32)\n",
    "    target_array = np.full((1442, 1021, len(targets)), np.nan, dtype=np.float32)\n",
    "\n",
    "\n",
    "    for month in range(1, 13):\n",
    "        month_data = df.loc[(df['month'] == month)]\n",
    "        x_indices = month_data['x'].astype(int)\n",
    "        y_indices = month_data['y'].astype(int)\n",
    "\n",
    "        # Map data to arrays\n",
    "        input_values = month_data[features].values\n",
    "        target_values = month_data[targets].values\n",
    "\n",
    "        # Ensure shape compatibility\n",
    "        if input_values.shape[0] == len(x_indices) and target_values.shape[0] == len(x_indices):\n",
    "            features_array[x_indices, y_indices, :] = input_values\n",
    "            target_array[x_indices, y_indices, :] = target_values\n",
    "\n",
    "            np.save(os.path.join(output_path, f\"{year}_{month}_features.npy\"), features_array)\n",
    "            np.save(os.path.join(output_path, f\"{year}_{month}_targets.npy\"), target_array)\n",
    "        else:\n",
    "            print(f\"Shape mismatch for month {month}. Skipping...\")\n",
    "\n",
    "\n",
    "\n"
   ]
  },
  {
   "cell_type": "code",
   "execution_count": 56,
   "metadata": {},
   "outputs": [
    {
     "name": "stdout",
     "output_type": "stream",
     "text": [
      "1960\n",
      "1961\n",
      "1962\n",
      "1963\n",
      "1964\n",
      "1965\n",
      "1966\n",
      "1967\n",
      "1968\n",
      "1969\n"
     ]
    }
   ],
   "source": [
    "# setUpScaler()\n",
    "for year in range(1960, 1970):\n",
    "    print(year)\n",
    "    preprocess_and_store(year)"
   ]
  }
 ],
 "metadata": {
  "kernelspec": {
   "display_name": "env",
   "language": "python",
   "name": "python3"
  },
  "language_info": {
   "codemirror_mode": {
    "name": "ipython",
    "version": 3
   },
   "file_extension": ".py",
   "mimetype": "text/x-python",
   "name": "python",
   "nbconvert_exporter": "python",
   "pygments_lexer": "ipython3",
   "version": "3.11.10"
  }
 },
 "nbformat": 4,
 "nbformat_minor": 2
}
