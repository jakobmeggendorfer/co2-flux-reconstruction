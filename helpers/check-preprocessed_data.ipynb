{
 "cells": [
  {
   "cell_type": "code",
   "execution_count": 21,
   "id": "180da62a",
   "metadata": {},
   "outputs": [],
   "source": [
    "import os\n",
    "import numpy as np"
   ]
  },
  {
   "cell_type": "code",
   "execution_count": 22,
   "id": "9b3163fa",
   "metadata": {},
   "outputs": [],
   "source": [
    "data_path = \"../../../../../../../Volumes/T7 Shield/preprocessed_new_exp1\"\n",
    "folder_path = \"../plots/perceptron/flux\" "
   ]
  },
  {
   "cell_type": "code",
   "execution_count": 24,
   "id": "87cfc20f",
   "metadata": {},
   "outputs": [
    {
     "ename": "KeyboardInterrupt",
     "evalue": "",
     "output_type": "error",
     "traceback": [
      "\u001b[0;31m---------------------------------------------------------------------------\u001b[0m",
      "\u001b[0;31mKeyboardInterrupt\u001b[0m                         Traceback (most recent call last)",
      "Cell \u001b[0;32mIn[24], line 7\u001b[0m\n\u001b[1;32m      4\u001b[0m targets_list \u001b[38;5;241m=\u001b[39m []\n\u001b[1;32m      6\u001b[0m \u001b[38;5;28;01mfor\u001b[39;00m f_file, t_file \u001b[38;5;129;01min\u001b[39;00m \u001b[38;5;28mzip\u001b[39m(feature_files, target_files):\n\u001b[0;32m----> 7\u001b[0m     features \u001b[38;5;241m=\u001b[39m \u001b[43mnp\u001b[49m\u001b[38;5;241;43m.\u001b[39;49m\u001b[43mload\u001b[49m\u001b[43m(\u001b[49m\u001b[43mf_file\u001b[49m\u001b[43m)\u001b[49m \n\u001b[1;32m      8\u001b[0m     targets \u001b[38;5;241m=\u001b[39m np\u001b[38;5;241m.\u001b[39mload(t_file)  \n\u001b[1;32m      9\u001b[0m     features_flat \u001b[38;5;241m=\u001b[39m features\u001b[38;5;241m.\u001b[39mreshape(\u001b[38;5;241m-\u001b[39m\u001b[38;5;241m1\u001b[39m, features\u001b[38;5;241m.\u001b[39mshape[\u001b[38;5;241m2\u001b[39m])  \n",
      "File \u001b[0;32m~/Documents/CAU/Masterarbeit/master-thesis/env/lib/python3.11/site-packages/numpy/lib/npyio.py:456\u001b[0m, in \u001b[0;36mload\u001b[0;34m(file, mmap_mode, allow_pickle, fix_imports, encoding, max_header_size)\u001b[0m\n\u001b[1;32m    453\u001b[0m         \u001b[38;5;28;01mreturn\u001b[39;00m \u001b[38;5;28mformat\u001b[39m\u001b[38;5;241m.\u001b[39mopen_memmap(file, mode\u001b[38;5;241m=\u001b[39mmmap_mode,\n\u001b[1;32m    454\u001b[0m                                   max_header_size\u001b[38;5;241m=\u001b[39mmax_header_size)\n\u001b[1;32m    455\u001b[0m     \u001b[38;5;28;01melse\u001b[39;00m:\n\u001b[0;32m--> 456\u001b[0m         \u001b[38;5;28;01mreturn\u001b[39;00m \u001b[38;5;28;43mformat\u001b[39;49m\u001b[38;5;241;43m.\u001b[39;49m\u001b[43mread_array\u001b[49m\u001b[43m(\u001b[49m\u001b[43mfid\u001b[49m\u001b[43m,\u001b[49m\u001b[43m \u001b[49m\u001b[43mallow_pickle\u001b[49m\u001b[38;5;241;43m=\u001b[39;49m\u001b[43mallow_pickle\u001b[49m\u001b[43m,\u001b[49m\n\u001b[1;32m    457\u001b[0m \u001b[43m                                 \u001b[49m\u001b[43mpickle_kwargs\u001b[49m\u001b[38;5;241;43m=\u001b[39;49m\u001b[43mpickle_kwargs\u001b[49m\u001b[43m,\u001b[49m\n\u001b[1;32m    458\u001b[0m \u001b[43m                                 \u001b[49m\u001b[43mmax_header_size\u001b[49m\u001b[38;5;241;43m=\u001b[39;49m\u001b[43mmax_header_size\u001b[49m\u001b[43m)\u001b[49m\n\u001b[1;32m    459\u001b[0m \u001b[38;5;28;01melse\u001b[39;00m:\n\u001b[1;32m    460\u001b[0m     \u001b[38;5;66;03m# Try a pickle\u001b[39;00m\n\u001b[1;32m    461\u001b[0m     \u001b[38;5;28;01mif\u001b[39;00m \u001b[38;5;129;01mnot\u001b[39;00m allow_pickle:\n",
      "File \u001b[0;32m~/Documents/CAU/Masterarbeit/master-thesis/env/lib/python3.11/site-packages/numpy/lib/format.py:809\u001b[0m, in \u001b[0;36mread_array\u001b[0;34m(fp, allow_pickle, pickle_kwargs, max_header_size)\u001b[0m\n\u001b[1;32m    806\u001b[0m \u001b[38;5;28;01melse\u001b[39;00m:\n\u001b[1;32m    807\u001b[0m     \u001b[38;5;28;01mif\u001b[39;00m isfileobj(fp):\n\u001b[1;32m    808\u001b[0m         \u001b[38;5;66;03m# We can use the fast fromfile() function.\u001b[39;00m\n\u001b[0;32m--> 809\u001b[0m         array \u001b[38;5;241m=\u001b[39m \u001b[43mnumpy\u001b[49m\u001b[38;5;241;43m.\u001b[39;49m\u001b[43mfromfile\u001b[49m\u001b[43m(\u001b[49m\u001b[43mfp\u001b[49m\u001b[43m,\u001b[49m\u001b[43m \u001b[49m\u001b[43mdtype\u001b[49m\u001b[38;5;241;43m=\u001b[39;49m\u001b[43mdtype\u001b[49m\u001b[43m,\u001b[49m\u001b[43m \u001b[49m\u001b[43mcount\u001b[49m\u001b[38;5;241;43m=\u001b[39;49m\u001b[43mcount\u001b[49m\u001b[43m)\u001b[49m\n\u001b[1;32m    810\u001b[0m     \u001b[38;5;28;01melse\u001b[39;00m:\n\u001b[1;32m    811\u001b[0m         \u001b[38;5;66;03m# This is not a real file. We have to read it the\u001b[39;00m\n\u001b[1;32m    812\u001b[0m         \u001b[38;5;66;03m# memory-intensive way.\u001b[39;00m\n\u001b[0;32m   (...)\u001b[0m\n\u001b[1;32m    820\u001b[0m         \u001b[38;5;66;03m# not correctly instantiate zero-width string dtypes; see\u001b[39;00m\n\u001b[1;32m    821\u001b[0m         \u001b[38;5;66;03m# https://github.com/numpy/numpy/pull/6430\u001b[39;00m\n\u001b[1;32m    822\u001b[0m         array \u001b[38;5;241m=\u001b[39m numpy\u001b[38;5;241m.\u001b[39mndarray(count, dtype\u001b[38;5;241m=\u001b[39mdtype)\n",
      "\u001b[0;31mKeyboardInterrupt\u001b[0m: "
     ]
    }
   ],
   "source": [
    "feature_files = [os.path.join(data_path, f\"{i}_features.npy\") for i in range(1, 733)]\n",
    "target_files = [os.path.join(data_path, f\"{i}_targets.npy\") for i in range(1, 733)]\n",
    "features_list = []\n",
    "targets_list = []\n",
    "\n",
    "for f_file, t_file in zip(feature_files, target_files):\n",
    "    features = np.load(f_file) \n",
    "    targets = np.load(t_file)  \n",
    "    features_flat = features.reshape(-1, features.shape[2])  \n",
    "    targets_flat = targets.reshape(-1, targets.shape[2])   \n",
    "    features_list.append(features_flat)\n",
    "    targets_list.append(targets_flat)\n",
    "\n",
    "features_array = np.concatenate(features_list, axis=0)  \n",
    "all_targets_array = np.concatenate(targets_list, axis=0)   \n",
    "\n",
    "targets_array = all_targets_array[..., 2]\n"
   ]
  },
  {
   "cell_type": "code",
   "execution_count": null,
   "id": "1127fc46",
   "metadata": {},
   "outputs": [
    {
     "name": "stdout",
     "output_type": "stream",
     "text": [
      "SST: Mean: 11.0330, Std: 11.6833, Min: -2.0927, Max: 35.0619, Nans: False\n",
      "SAL: Mean: 24.0227, Std: 15.9348, Min: 0.0000, Max: 42.9749, Nans: False\n",
      "ice_frac: Mean: 0.0543, Std: 0.2079, Min: 0.0000, Max: 1.0000, Nans: False\n",
      "mixed_layer_depth: Mean: 37.6962, Std: 58.4590, Min: 0.0000, Max: 3479.7183, Nans: False\n",
      "heat_flux_down: Mean: -2.1739, Std: 77.8562, Min: -1645.7784, Max: 305.1132, Nans: False\n",
      "water_flux_up: Mean: 24018816820760676.0000, Std: 36432208752937160.0000, Min: -0.0795, Max: 79282407634632704.0000, Nans: False\n",
      "stress_X: Mean: 0.0100, Std: 0.0651, Min: -0.9011, Max: 0.6345, Nans: False\n"
     ]
    },
    {
     "ename": "KeyboardInterrupt",
     "evalue": "",
     "output_type": "error",
     "traceback": [
      "\u001b[0;31m---------------------------------------------------------------------------\u001b[0m",
      "\u001b[0;31mKeyboardInterrupt\u001b[0m                         Traceback (most recent call last)",
      "Cell \u001b[0;32mIn[17], line 6\u001b[0m\n\u001b[1;32m      4\u001b[0m \u001b[38;5;28;01mfor\u001b[39;00m i \u001b[38;5;129;01min\u001b[39;00m \u001b[38;5;28mrange\u001b[39m(\u001b[38;5;28mlen\u001b[39m(features)):\n\u001b[1;32m      5\u001b[0m     mean \u001b[38;5;241m=\u001b[39m np\u001b[38;5;241m.\u001b[39mmean(features_array[:,i])\n\u001b[0;32m----> 6\u001b[0m     std \u001b[38;5;241m=\u001b[39m \u001b[43mnp\u001b[49m\u001b[38;5;241;43m.\u001b[39;49m\u001b[43mstd\u001b[49m\u001b[43m(\u001b[49m\u001b[43mfeatures_array\u001b[49m\u001b[43m[\u001b[49m\u001b[43m:\u001b[49m\u001b[43m,\u001b[49m\u001b[43mi\u001b[49m\u001b[43m]\u001b[49m\u001b[43m)\u001b[49m\n\u001b[1;32m      7\u001b[0m     min_val \u001b[38;5;241m=\u001b[39m np\u001b[38;5;241m.\u001b[39mmin(features_array[:,i])\n\u001b[1;32m      8\u001b[0m     max_val \u001b[38;5;241m=\u001b[39m np\u001b[38;5;241m.\u001b[39mmax(features_array[:,i])\n",
      "File \u001b[0;32m~/Documents/CAU/Masterarbeit/master-thesis/env/lib/python3.11/site-packages/numpy/core/fromnumeric.py:3645\u001b[0m, in \u001b[0;36mstd\u001b[0;34m(a, axis, dtype, out, ddof, keepdims, where)\u001b[0m\n\u001b[1;32m   3642\u001b[0m     \u001b[38;5;28;01melse\u001b[39;00m:\n\u001b[1;32m   3643\u001b[0m         \u001b[38;5;28;01mreturn\u001b[39;00m std(axis\u001b[38;5;241m=\u001b[39maxis, dtype\u001b[38;5;241m=\u001b[39mdtype, out\u001b[38;5;241m=\u001b[39mout, ddof\u001b[38;5;241m=\u001b[39mddof, \u001b[38;5;241m*\u001b[39m\u001b[38;5;241m*\u001b[39mkwargs)\n\u001b[0;32m-> 3645\u001b[0m \u001b[38;5;28;01mreturn\u001b[39;00m \u001b[43m_methods\u001b[49m\u001b[38;5;241;43m.\u001b[39;49m\u001b[43m_std\u001b[49m\u001b[43m(\u001b[49m\u001b[43ma\u001b[49m\u001b[43m,\u001b[49m\u001b[43m \u001b[49m\u001b[43maxis\u001b[49m\u001b[38;5;241;43m=\u001b[39;49m\u001b[43maxis\u001b[49m\u001b[43m,\u001b[49m\u001b[43m \u001b[49m\u001b[43mdtype\u001b[49m\u001b[38;5;241;43m=\u001b[39;49m\u001b[43mdtype\u001b[49m\u001b[43m,\u001b[49m\u001b[43m \u001b[49m\u001b[43mout\u001b[49m\u001b[38;5;241;43m=\u001b[39;49m\u001b[43mout\u001b[49m\u001b[43m,\u001b[49m\u001b[43m \u001b[49m\u001b[43mddof\u001b[49m\u001b[38;5;241;43m=\u001b[39;49m\u001b[43mddof\u001b[49m\u001b[43m,\u001b[49m\n\u001b[1;32m   3646\u001b[0m \u001b[43m                     \u001b[49m\u001b[38;5;241;43m*\u001b[39;49m\u001b[38;5;241;43m*\u001b[39;49m\u001b[43mkwargs\u001b[49m\u001b[43m)\u001b[49m\n",
      "File \u001b[0;32m~/Documents/CAU/Masterarbeit/master-thesis/env/lib/python3.11/site-packages/numpy/core/_methods.py:206\u001b[0m, in \u001b[0;36m_std\u001b[0;34m(a, axis, dtype, out, ddof, keepdims, where)\u001b[0m\n\u001b[1;32m    204\u001b[0m \u001b[38;5;28;01mdef\u001b[39;00m \u001b[38;5;21m_std\u001b[39m(a, axis\u001b[38;5;241m=\u001b[39m\u001b[38;5;28;01mNone\u001b[39;00m, dtype\u001b[38;5;241m=\u001b[39m\u001b[38;5;28;01mNone\u001b[39;00m, out\u001b[38;5;241m=\u001b[39m\u001b[38;5;28;01mNone\u001b[39;00m, ddof\u001b[38;5;241m=\u001b[39m\u001b[38;5;241m0\u001b[39m, keepdims\u001b[38;5;241m=\u001b[39m\u001b[38;5;28;01mFalse\u001b[39;00m, \u001b[38;5;241m*\u001b[39m,\n\u001b[1;32m    205\u001b[0m          where\u001b[38;5;241m=\u001b[39m\u001b[38;5;28;01mTrue\u001b[39;00m):\n\u001b[0;32m--> 206\u001b[0m     ret \u001b[38;5;241m=\u001b[39m \u001b[43m_var\u001b[49m\u001b[43m(\u001b[49m\u001b[43ma\u001b[49m\u001b[43m,\u001b[49m\u001b[43m \u001b[49m\u001b[43maxis\u001b[49m\u001b[38;5;241;43m=\u001b[39;49m\u001b[43maxis\u001b[49m\u001b[43m,\u001b[49m\u001b[43m \u001b[49m\u001b[43mdtype\u001b[49m\u001b[38;5;241;43m=\u001b[39;49m\u001b[43mdtype\u001b[49m\u001b[43m,\u001b[49m\u001b[43m \u001b[49m\u001b[43mout\u001b[49m\u001b[38;5;241;43m=\u001b[39;49m\u001b[43mout\u001b[49m\u001b[43m,\u001b[49m\u001b[43m \u001b[49m\u001b[43mddof\u001b[49m\u001b[38;5;241;43m=\u001b[39;49m\u001b[43mddof\u001b[49m\u001b[43m,\u001b[49m\n\u001b[1;32m    207\u001b[0m \u001b[43m               \u001b[49m\u001b[43mkeepdims\u001b[49m\u001b[38;5;241;43m=\u001b[39;49m\u001b[43mkeepdims\u001b[49m\u001b[43m,\u001b[49m\u001b[43m \u001b[49m\u001b[43mwhere\u001b[49m\u001b[38;5;241;43m=\u001b[39;49m\u001b[43mwhere\u001b[49m\u001b[43m)\u001b[49m\n\u001b[1;32m    209\u001b[0m     \u001b[38;5;28;01mif\u001b[39;00m \u001b[38;5;28misinstance\u001b[39m(ret, mu\u001b[38;5;241m.\u001b[39mndarray):\n\u001b[1;32m    210\u001b[0m         ret \u001b[38;5;241m=\u001b[39m um\u001b[38;5;241m.\u001b[39msqrt(ret, out\u001b[38;5;241m=\u001b[39mret)\n",
      "File \u001b[0;32m~/Documents/CAU/Masterarbeit/master-thesis/env/lib/python3.11/site-packages/numpy/core/_methods.py:173\u001b[0m, in \u001b[0;36m_var\u001b[0;34m(a, axis, dtype, out, ddof, keepdims, where)\u001b[0m\n\u001b[1;32m    168\u001b[0m     arrmean \u001b[38;5;241m=\u001b[39m arrmean \u001b[38;5;241m/\u001b[39m rcount\n\u001b[1;32m    170\u001b[0m \u001b[38;5;66;03m# Compute sum of squared deviations from mean\u001b[39;00m\n\u001b[1;32m    171\u001b[0m \u001b[38;5;66;03m# Note that x may not be inexact and that we need it to be an array,\u001b[39;00m\n\u001b[1;32m    172\u001b[0m \u001b[38;5;66;03m# not a scalar.\u001b[39;00m\n\u001b[0;32m--> 173\u001b[0m x \u001b[38;5;241m=\u001b[39m asanyarray(arr \u001b[38;5;241m-\u001b[39m arrmean)\n\u001b[1;32m    175\u001b[0m \u001b[38;5;28;01mif\u001b[39;00m \u001b[38;5;28missubclass\u001b[39m(arr\u001b[38;5;241m.\u001b[39mdtype\u001b[38;5;241m.\u001b[39mtype, (nt\u001b[38;5;241m.\u001b[39mfloating, nt\u001b[38;5;241m.\u001b[39minteger)):\n\u001b[1;32m    176\u001b[0m     x \u001b[38;5;241m=\u001b[39m um\u001b[38;5;241m.\u001b[39mmultiply(x, x, out\u001b[38;5;241m=\u001b[39mx)\n",
      "\u001b[0;31mKeyboardInterrupt\u001b[0m: "
     ]
    }
   ],
   "source": [
    "features = ['SST', 'SAL', 'ice_frac', 'mixed_layer_depth', 'heat_flux_down', 'water_flux_up', 'stress_X', 'stress_Y', 'currents_X', 'currents_Y', 'month',\n",
    "            'tmask','year','nav_lat', 'nav_lon','global_co2']\n",
    "\n",
    "for i in range(len(features)):\n",
    "    mean = np.mean(features_array[:,i])\n",
    "    std = np.std(features_array[:,i])\n",
    "    min_val = np.min(features_array[:,i])\n",
    "    max_val = np.max(features_array[:,i])\n",
    "    existNans = np.isnan(features_array[:,i]).any()\n",
    "\n",
    "    print(f\"{features[i]}: Mean: {mean:.4f}, Std: {std:.4f}, Min: {min_val:.4f}, Max: {max_val:.4f}, Nans: {existNans}\")\n",
    "\n",
    "mean = np.mean(targets_array)\n",
    "std = np.std(targets_array)\n",
    "min_val = np.min(targets_array)\n",
    "max_val = np.max(targets_array)\n",
    "existNans = np.isnan(targets_array).any()\n",
    "\n",
    "print(f\"CO2 Flux: Mean: {mean:.4f}, Std: {std:.4f}, Min: {min_val:.4f}, Max: {max_val:.4f}, Nans: {existNans}\")\n"
   ]
  },
  {
   "cell_type": "code",
   "execution_count": null,
   "id": "1d89c0ce",
   "metadata": {},
   "outputs": [
    {
     "name": "stdout",
     "output_type": "stream",
     "text": [
      "Number of samples before filtering: 1944000\n",
      "Number of samples after filtering: 1355040\n",
      "SST: Mean: 15.9537, Std: 10.9243, Min: -1.9855, Max: 33.4041\n",
      "SAL: Mean: 34.4653, Std: 2.0844, Min: 0.0000, Max: 42.4299\n",
      "ice_frac: Mean: 0.0713, Std: 0.2370, Min: 0.0000, Max: 1.0000\n",
      "mixed_layer_depth: Mean: 58.9426, Std: 65.4924, Min: 12.8391, Max: 2948.8228\n",
      "heat_flux_down: Mean: -11.5053, Std: 92.7318, Min: -950.2751, Max: 262.3462\n",
      "water_flux_up: Mean: -0.0000, Std: 0.0002, Min: -0.0795, Max: 0.0136\n",
      "stress_X: Mean: 0.0114, Std: 0.0744, Min: -0.6313, Max: 0.3566\n",
      "stress_Y: Mean: 0.0016, Std: 0.0409, Min: -0.4107, Max: 0.6494\n",
      "currents_X: Mean: 0.0122, Std: 0.1258, Min: -1.6907, Max: 1.7821\n",
      "currents_Y: Mean: 0.0012, Std: 0.0783, Min: -1.6412, Max: 1.8688\n",
      "month: Mean: 5.0000, Std: 2.5820, Min: 1.0000, Max: 9.0000\n",
      "tmask: Mean: 1.0000, Std: 0.0000, Min: 1.0000, Max: 1.0000\n",
      "year: Mean: 1958.0000, Std: 0.0000, Min: 1958.0000, Max: 1958.0000\n",
      "nav_lat: Mean: -9.4373, Std: 40.4227, Min: -74.7594, Max: 74.9118\n",
      "nav_lon: Mean: -10.1491, Std: 109.6658, Min: -179.9234, Max: 179.8910\n",
      "global_co2: Mean: 315.3400, Std: 0.0000, Min: 315.3400, Max: 315.3400\n"
     ]
    }
   ],
   "source": [
    "mask = features_array[:, 11] == 1\n",
    "\n",
    "print(\"Number of samples before filtering:\", features_array.shape[0])\n",
    "# Apply the mask to both arrays\n",
    "filtered_features = features_array[mask]\n",
    "filtered_targets = targets_array[mask]\n",
    "print(\"Number of samples after filtering:\", filtered_features.shape[0])\n",
    "\n",
    "for i in range(len(features)):\n",
    "    mean = np.mean(filtered_features[:,i])\n",
    "    std = np.std(filtered_features[:,i])\n",
    "    min_val = np.min(filtered_features[:,i])\n",
    "    max_val = np.max(filtered_features[:,i])\n",
    "    existNans = np.isnan(features_array[:,i]).any()\n",
    "\n",
    "    print(f\"{features[i]}: Mean: {mean:.4f}, Std: {std:.4f}, Min: {min_val:.4f}, Max: {max_val:.4f}, Nans: {existNans}\")\n",
    "\n",
    "mean = np.mean(targets_array)\n",
    "std = np.std(targets_array)\n",
    "min_val = np.min(targets_array)\n",
    "max_val = np.max(targets_array)\n",
    "existNans = np.isnan(targets_array).any()\n",
    "\n",
    "print(f\"CO2 Flux: Mean: {mean:.4f}, Std: {std:.4f}, Min: {min_val:.4f}, Max: {max_val:.4f}, Nans: {existNans}\")"
   ]
  }
 ],
 "metadata": {
  "kernelspec": {
   "display_name": "env",
   "language": "python",
   "name": "python3"
  },
  "language_info": {
   "codemirror_mode": {
    "name": "ipython",
    "version": 3
   },
   "file_extension": ".py",
   "mimetype": "text/x-python",
   "name": "python",
   "nbconvert_exporter": "python",
   "pygments_lexer": "ipython3",
   "version": "3.11.10"
  }
 },
 "nbformat": 4,
 "nbformat_minor": 5
}
