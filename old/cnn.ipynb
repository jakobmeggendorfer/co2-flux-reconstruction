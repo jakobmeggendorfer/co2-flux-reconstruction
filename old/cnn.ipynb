{
 "cells": [
  {
   "cell_type": "code",
   "execution_count": 4,
   "metadata": {},
   "outputs": [],
   "source": [
    "import numpy as np\n",
    "import tensorflow as tf\n",
    "from tensorflow import keras\n",
    "from tensorflow.keras import layers\n",
    "import glob"
   ]
  },
  {
   "cell_type": "code",
   "execution_count": 5,
   "metadata": {},
   "outputs": [],
   "source": [
    "def extract_patches(features, targets, patch_size=18):\n",
    "    \"\"\"\n",
    "    Extracts non-overlapping patches of size patch_size x patch_size from the input arrays.\n",
    "    \n",
    "    Args:\n",
    "        features (numpy.ndarray): The feature array of shape (1442, 1021, 15).\n",
    "        targets (numpy.ndarray): The target array of shape (1442, 1021).\n",
    "        patch_size (int): The size of the patches to extract.\n",
    "\n",
    "    Returns:\n",
    "        X_patches (numpy.ndarray): Extracted patches from features, shape (num_patches, 18, 18, 15).\n",
    "        y_patches (numpy.ndarray): Extracted patches from targets, shape (num_patches, 18, 18).\n",
    "    \"\"\"\n",
    "    # Crop the arrays to be multiples of 18\n",
    "    new_x = (features.shape[0] // patch_size) * patch_size\n",
    "    new_y = (features.shape[1] // patch_size) * patch_size\n",
    "    \n",
    "    features = features[:new_x, :new_y, :]\n",
    "    targets = targets[:new_x, :new_y]\n",
    "\n",
    "    # Split into patches\n",
    "    X_patches = []\n",
    "    y_patches = []\n",
    "    \n",
    "    for i in range(0, new_x, patch_size):\n",
    "        for j in range(0, new_y, patch_size):\n",
    "            X_patches.append(features[i:i+patch_size, j:j+patch_size, :])\n",
    "            y_patches.append(targets[i:i+patch_size, j:j+patch_size])\n",
    "\n",
    "    return np.array(X_patches), np.array(y_patches)"
   ]
  },
  {
   "cell_type": "code",
   "execution_count": 6,
   "metadata": {},
   "outputs": [],
   "source": [
    "path = \"../data/preprocessed_data\"\n",
    "\n",
    "# Get sorted file lists\n",
    "feature_files = sorted(glob.glob(f\"{path}/*_features.npy\"))\n",
    "target_files = sorted(glob.glob(f\"{path}/*_targets.npy\"))\n",
    "\n",
    "# Generate indices and shuffle\n",
    "indices = np.arange(len(feature_files))\n",
    "np.random.shuffle(indices)\n",
    "\n",
    "test_idx = indices[0]\n",
    "remaining_idx = indices[1:]\n",
    "train_split = int(0.85 * len(remaining_idx))\n",
    "train_idx = remaining_idx[:train_split]\n",
    "val_idx = remaining_idx[train_split:]\n",
    "\n",
    "\n",
    "# Create datasets\n",
    "train_features = [feature_files[i] for i in train_idx]\n",
    "train_targets = [target_files[i] for i in train_idx]\n",
    "\n",
    "val_features = [feature_files[i] for i in val_idx]\n",
    "val_targets = [target_files[i] for i in val_idx]\n",
    "\n",
    "test_features = [feature_files[test_idx]]\n",
    "test_targets = [target_files[test_idx]]"
   ]
  },
  {
   "cell_type": "code",
   "execution_count": 18,
   "metadata": {},
   "outputs": [],
   "source": [
    "class LazyLoadDataset(tf.data.Dataset):\n",
    "    def __new__(cls, input_files, target_files, batch_size=1):\n",
    "        # Convert lists to TensorFlow datasets\n",
    "        input_ds = tf.data.Dataset.from_tensor_slices(input_files)\n",
    "        target_ds = tf.data.Dataset.from_tensor_slices(target_files)\n",
    "\n",
    "        def load_numpy(input_path, target_path):\n",
    "            x = np.load(input_path.numpy())\n",
    "            y = np.load(target_path.numpy())\n",
    "            y = y[:, :, 1]  # Select fco2_pre\n",
    "            \n",
    "            # Extract 18x18 patches\n",
    "            x_patches, y_patches = extract_patches(x, y)\n",
    "            \n",
    "            return x_patches, y_patches\n",
    "\n",
    "        def load_numpy_tf(input_path, target_path):\n",
    "            x_patches, y_patches = tf.py_function(load_numpy, [input_path, target_path], [tf.float32, tf.float32])\n",
    "            \n",
    "            # Set expected shapes\n",
    "            x_patches.set_shape([None, 18, 18, 15])\n",
    "            y_patches.set_shape([None, 18, 18])\n",
    "            \n",
    "            return x_patches, y_patches\n",
    "\n",
    "        # Zip the datasets & apply loading function\n",
    "        dataset = tf.data.Dataset.zip((input_ds, target_ds))\n",
    "        dataset = dataset.map(load_numpy_tf, num_parallel_calls=tf.data.experimental.AUTOTUNE)\n",
    "\n",
    "        # Batch, shuffle, and prefetch\n",
    "        dataset = dataset.prefetch(tf.data.experimental.AUTOTUNE)\n",
    "\n",
    "        return dataset"
   ]
  },
  {
   "cell_type": "code",
   "execution_count": 19,
   "metadata": {},
   "outputs": [],
   "source": [
    "batch_size = 2\n",
    "train_dataset = LazyLoadDataset(train_features, train_targets, batch_size)\n",
    "val_dataset = LazyLoadDataset(val_features, val_targets)\n",
    "test_dataset = LazyLoadDataset(test_features, test_targets)"
   ]
  },
  {
   "cell_type": "code",
   "execution_count": null,
   "metadata": {},
   "outputs": [
    {
     "data": {
      "text/html": [
       "<pre style=\"white-space:pre;overflow-x:auto;line-height:normal;font-family:Menlo,'DejaVu Sans Mono',consolas,'Courier New',monospace\"><span style=\"font-weight: bold\">Model: \"functional_2\"</span>\n",
       "</pre>\n"
      ],
      "text/plain": [
       "\u001b[1mModel: \"functional_2\"\u001b[0m\n"
      ]
     },
     "metadata": {},
     "output_type": "display_data"
    },
    {
     "data": {
      "text/html": [
       "<pre style=\"white-space:pre;overflow-x:auto;line-height:normal;font-family:Menlo,'DejaVu Sans Mono',consolas,'Courier New',monospace\">┏━━━━━━━━━━━━━━━━━━━━━━━━━━━━━━━━━┳━━━━━━━━━━━━━━━━━━━━━━━━┳━━━━━━━━━━━━━━━┓\n",
       "┃<span style=\"font-weight: bold\"> Layer (type)                    </span>┃<span style=\"font-weight: bold\"> Output Shape           </span>┃<span style=\"font-weight: bold\">       Param # </span>┃\n",
       "┡━━━━━━━━━━━━━━━━━━━━━━━━━━━━━━━━━╇━━━━━━━━━━━━━━━━━━━━━━━━╇━━━━━━━━━━━━━━━┩\n",
       "│ input_layer_2 (<span style=\"color: #0087ff; text-decoration-color: #0087ff\">InputLayer</span>)      │ (<span style=\"color: #00d7ff; text-decoration-color: #00d7ff\">None</span>, <span style=\"color: #00af00; text-decoration-color: #00af00\">18</span>, <span style=\"color: #00af00; text-decoration-color: #00af00\">18</span>, <span style=\"color: #00af00; text-decoration-color: #00af00\">15</span>)     │             <span style=\"color: #00af00; text-decoration-color: #00af00\">0</span> │\n",
       "├─────────────────────────────────┼────────────────────────┼───────────────┤\n",
       "│ conv2d_8 (<span style=\"color: #0087ff; text-decoration-color: #0087ff\">Conv2D</span>)               │ (<span style=\"color: #00d7ff; text-decoration-color: #00d7ff\">None</span>, <span style=\"color: #00af00; text-decoration-color: #00af00\">18</span>, <span style=\"color: #00af00; text-decoration-color: #00af00\">18</span>, <span style=\"color: #00af00; text-decoration-color: #00af00\">32</span>)     │         <span style=\"color: #00af00; text-decoration-color: #00af00\">4,352</span> │\n",
       "├─────────────────────────────────┼────────────────────────┼───────────────┤\n",
       "│ conv2d_9 (<span style=\"color: #0087ff; text-decoration-color: #0087ff\">Conv2D</span>)               │ (<span style=\"color: #00d7ff; text-decoration-color: #00d7ff\">None</span>, <span style=\"color: #00af00; text-decoration-color: #00af00\">18</span>, <span style=\"color: #00af00; text-decoration-color: #00af00\">18</span>, <span style=\"color: #00af00; text-decoration-color: #00af00\">64</span>)     │        <span style=\"color: #00af00; text-decoration-color: #00af00\">18,496</span> │\n",
       "├─────────────────────────────────┼────────────────────────┼───────────────┤\n",
       "│ conv2d_10 (<span style=\"color: #0087ff; text-decoration-color: #0087ff\">Conv2D</span>)              │ (<span style=\"color: #00d7ff; text-decoration-color: #00d7ff\">None</span>, <span style=\"color: #00af00; text-decoration-color: #00af00\">18</span>, <span style=\"color: #00af00; text-decoration-color: #00af00\">18</span>, <span style=\"color: #00af00; text-decoration-color: #00af00\">128</span>)    │        <span style=\"color: #00af00; text-decoration-color: #00af00\">73,856</span> │\n",
       "├─────────────────────────────────┼────────────────────────┼───────────────┤\n",
       "│ conv2d_11 (<span style=\"color: #0087ff; text-decoration-color: #0087ff\">Conv2D</span>)              │ (<span style=\"color: #00d7ff; text-decoration-color: #00d7ff\">None</span>, <span style=\"color: #00af00; text-decoration-color: #00af00\">18</span>, <span style=\"color: #00af00; text-decoration-color: #00af00\">18</span>, <span style=\"color: #00af00; text-decoration-color: #00af00\">1</span>)      │         <span style=\"color: #00af00; text-decoration-color: #00af00\">1,153</span> │\n",
       "└─────────────────────────────────┴────────────────────────┴───────────────┘\n",
       "</pre>\n"
      ],
      "text/plain": [
       "┏━━━━━━━━━━━━━━━━━━━━━━━━━━━━━━━━━┳━━━━━━━━━━━━━━━━━━━━━━━━┳━━━━━━━━━━━━━━━┓\n",
       "┃\u001b[1m \u001b[0m\u001b[1mLayer (type)                   \u001b[0m\u001b[1m \u001b[0m┃\u001b[1m \u001b[0m\u001b[1mOutput Shape          \u001b[0m\u001b[1m \u001b[0m┃\u001b[1m \u001b[0m\u001b[1m      Param #\u001b[0m\u001b[1m \u001b[0m┃\n",
       "┡━━━━━━━━━━━━━━━━━━━━━━━━━━━━━━━━━╇━━━━━━━━━━━━━━━━━━━━━━━━╇━━━━━━━━━━━━━━━┩\n",
       "│ input_layer_2 (\u001b[38;5;33mInputLayer\u001b[0m)      │ (\u001b[38;5;45mNone\u001b[0m, \u001b[38;5;34m18\u001b[0m, \u001b[38;5;34m18\u001b[0m, \u001b[38;5;34m15\u001b[0m)     │             \u001b[38;5;34m0\u001b[0m │\n",
       "├─────────────────────────────────┼────────────────────────┼───────────────┤\n",
       "│ conv2d_8 (\u001b[38;5;33mConv2D\u001b[0m)               │ (\u001b[38;5;45mNone\u001b[0m, \u001b[38;5;34m18\u001b[0m, \u001b[38;5;34m18\u001b[0m, \u001b[38;5;34m32\u001b[0m)     │         \u001b[38;5;34m4,352\u001b[0m │\n",
       "├─────────────────────────────────┼────────────────────────┼───────────────┤\n",
       "│ conv2d_9 (\u001b[38;5;33mConv2D\u001b[0m)               │ (\u001b[38;5;45mNone\u001b[0m, \u001b[38;5;34m18\u001b[0m, \u001b[38;5;34m18\u001b[0m, \u001b[38;5;34m64\u001b[0m)     │        \u001b[38;5;34m18,496\u001b[0m │\n",
       "├─────────────────────────────────┼────────────────────────┼───────────────┤\n",
       "│ conv2d_10 (\u001b[38;5;33mConv2D\u001b[0m)              │ (\u001b[38;5;45mNone\u001b[0m, \u001b[38;5;34m18\u001b[0m, \u001b[38;5;34m18\u001b[0m, \u001b[38;5;34m128\u001b[0m)    │        \u001b[38;5;34m73,856\u001b[0m │\n",
       "├─────────────────────────────────┼────────────────────────┼───────────────┤\n",
       "│ conv2d_11 (\u001b[38;5;33mConv2D\u001b[0m)              │ (\u001b[38;5;45mNone\u001b[0m, \u001b[38;5;34m18\u001b[0m, \u001b[38;5;34m18\u001b[0m, \u001b[38;5;34m1\u001b[0m)      │         \u001b[38;5;34m1,153\u001b[0m │\n",
       "└─────────────────────────────────┴────────────────────────┴───────────────┘\n"
      ]
     },
     "metadata": {},
     "output_type": "display_data"
    },
    {
     "data": {
      "text/html": [
       "<pre style=\"white-space:pre;overflow-x:auto;line-height:normal;font-family:Menlo,'DejaVu Sans Mono',consolas,'Courier New',monospace\"><span style=\"font-weight: bold\"> Total params: </span><span style=\"color: #00af00; text-decoration-color: #00af00\">97,857</span> (382.25 KB)\n",
       "</pre>\n"
      ],
      "text/plain": [
       "\u001b[1m Total params: \u001b[0m\u001b[38;5;34m97,857\u001b[0m (382.25 KB)\n"
      ]
     },
     "metadata": {},
     "output_type": "display_data"
    },
    {
     "data": {
      "text/html": [
       "<pre style=\"white-space:pre;overflow-x:auto;line-height:normal;font-family:Menlo,'DejaVu Sans Mono',consolas,'Courier New',monospace\"><span style=\"font-weight: bold\"> Trainable params: </span><span style=\"color: #00af00; text-decoration-color: #00af00\">97,857</span> (382.25 KB)\n",
       "</pre>\n"
      ],
      "text/plain": [
       "\u001b[1m Trainable params: \u001b[0m\u001b[38;5;34m97,857\u001b[0m (382.25 KB)\n"
      ]
     },
     "metadata": {},
     "output_type": "display_data"
    },
    {
     "data": {
      "text/html": [
       "<pre style=\"white-space:pre;overflow-x:auto;line-height:normal;font-family:Menlo,'DejaVu Sans Mono',consolas,'Courier New',monospace\"><span style=\"font-weight: bold\"> Non-trainable params: </span><span style=\"color: #00af00; text-decoration-color: #00af00\">0</span> (0.00 B)\n",
       "</pre>\n"
      ],
      "text/plain": [
       "\u001b[1m Non-trainable params: \u001b[0m\u001b[38;5;34m0\u001b[0m (0.00 B)\n"
      ]
     },
     "metadata": {},
     "output_type": "display_data"
    }
   ],
   "source": [
    "def build_cnn(input_shape=(18, 18, 15)):\n",
    "    inputs = keras.Input(shape=input_shape)\n",
    "\n",
    "    x = layers.Conv2D(32, (3, 3), activation=\"relu\", padding=\"same\")(inputs)\n",
    "    x = layers.Conv2D(64, (3, 3), activation=\"relu\", padding=\"same\")(x)\n",
    "    x = layers.Conv2D(128, (3, 3), activation=\"relu\", padding=\"same\")(x)\n",
    "        x = layers.Conv2D(64, (3, 3), activation=\"relu\", padding=\"same\")(x)\n",
    "    x = layers.Conv2D(1, (3, 3), activation=\"linear\", padding=\"same\")(x)  # Regression output\n",
    "\n",
    "    model = keras.Model(inputs, x)\n",
    "    model.compile(optimizer=\"adam\", loss=\"mse\", metrics=[\"mae\"])\n",
    "    \n",
    "    return model\n",
    "\n",
    "# Build and compile model\n",
    "model = build_cnn()\n",
    "model.summary()"
   ]
  },
  {
   "cell_type": "code",
   "execution_count": 21,
   "metadata": {},
   "outputs": [
    {
     "name": "stdout",
     "output_type": "stream",
     "text": [
      "Epoch 1/8\n",
      "\u001b[1m111/111\u001b[0m \u001b[32m━━━━━━━━━━━━━━━━━━━━\u001b[0m\u001b[37m\u001b[0m \u001b[1m295s\u001b[0m 3s/step - loss: 24589.4590 - mae: 122.9949 - val_loss: 2734.3853 - val_mae: 32.4408\n",
      "Epoch 2/8\n",
      "\u001b[1m111/111\u001b[0m \u001b[32m━━━━━━━━━━━━━━━━━━━━\u001b[0m\u001b[37m\u001b[0m \u001b[1m292s\u001b[0m 3s/step - loss: 2435.9961 - mae: 31.6146 - val_loss: 1064.0753 - val_mae: 19.3959\n",
      "Epoch 3/8\n",
      "\u001b[1m111/111\u001b[0m \u001b[32m━━━━━━━━━━━━━━━━━━━━\u001b[0m\u001b[37m\u001b[0m \u001b[1m294s\u001b[0m 3s/step - loss: 1030.8959 - mae: 19.1281 - val_loss: 860.7300 - val_mae: 16.6254\n",
      "Epoch 4/8\n",
      "\u001b[1m111/111\u001b[0m \u001b[32m━━━━━━━━━━━━━━━━━━━━\u001b[0m\u001b[37m\u001b[0m \u001b[1m295s\u001b[0m 3s/step - loss: 877.5688 - mae: 17.1165 - val_loss: 784.5569 - val_mae: 15.7460\n",
      "Epoch 5/8\n",
      "\u001b[1m111/111\u001b[0m \u001b[32m━━━━━━━━━━━━━━━━━━━━\u001b[0m\u001b[37m\u001b[0m \u001b[1m294s\u001b[0m 3s/step - loss: 775.7355 - mae: 15.8600 - val_loss: 723.7489 - val_mae: 15.0534\n",
      "Epoch 6/8\n",
      "\u001b[1m111/111\u001b[0m \u001b[32m━━━━━━━━━━━━━━━━━━━━\u001b[0m\u001b[37m\u001b[0m \u001b[1m296s\u001b[0m 3s/step - loss: 757.4207 - mae: 15.9518 - val_loss: 666.6896 - val_mae: 14.4956\n",
      "Epoch 7/8\n",
      "\u001b[1m111/111\u001b[0m \u001b[32m━━━━━━━━━━━━━━━━━━━━\u001b[0m\u001b[37m\u001b[0m \u001b[1m972s\u001b[0m 9s/step - loss: 688.9438 - mae: 15.2928 - val_loss: 610.3051 - val_mae: 13.9744\n",
      "Epoch 8/8\n",
      "\u001b[1m111/111\u001b[0m \u001b[32m━━━━━━━━━━━━━━━━━━━━\u001b[0m\u001b[37m\u001b[0m \u001b[1m305s\u001b[0m 3s/step - loss: 638.0495 - mae: 14.9047 - val_loss: 557.2650 - val_mae: 13.4448\n"
     ]
    }
   ],
   "source": [
    "history = model.fit(\n",
    "    train_dataset,\n",
    "    validation_data = val_dataset,\n",
    "    epochs=8,  # Number of training epochs\n",
    "    callbacks=[tf.keras.callbacks.EarlyStopping(patience=5, restore_best_weights=True)]\n",
    ")"
   ]
  },
  {
   "cell_type": "code",
   "execution_count": 22,
   "metadata": {},
   "outputs": [
    {
     "name": "stdout",
     "output_type": "stream",
     "text": [
      "\u001b[1m1/1\u001b[0m \u001b[32m━━━━━━━━━━━━━━━━━━━━\u001b[0m\u001b[37m\u001b[0m \u001b[1m1s\u001b[0m 758ms/step - loss: 537.9490 - mae: 13.6394\n",
      "Test Loss: 537.9490356445312, Test MAE: 13.639397621154785\n"
     ]
    }
   ],
   "source": [
    "test_loss, test_mae = model.evaluate(test_dataset)\n",
    "print(f\"Test Loss: {test_loss}, Test MAE: {test_mae}\")"
   ]
  },
  {
   "cell_type": "code",
   "execution_count": 23,
   "metadata": {},
   "outputs": [
    {
     "data": {
      "image/png": "[encoded data removed]",
      "text/plain": [
       "<Figure size 640x480 with 1 Axes>"
      ]
     },
     "metadata": {},
     "output_type": "display_data"
    }
   ],
   "source": [
    "from datetime import datetime\n",
    "import matplotlib.pyplot as plt\n",
    "\n",
    "lr = 0.0001\n",
    "loss_function = 'mse'\n",
    "batch_size = 1\n",
    "\n",
    "\n",
    "plt.plot(history.history['loss'], color = 'blue', label = 'training loss')\n",
    "plt.plot(history.history['val_loss'], color = 'red', label = 'validation loss')\n",
    "plt.xlabel('Epoch number')\n",
    "plt.ylabel('Loss')\n",
    "plt.title('Training and validation loss')\n",
    "plt.grid(True)\n",
    "plt.legend()\n",
    "\n",
    "plt.subplots_adjust(bottom=0.3)\n",
    "plt.figtext(0.5, 0.01, f\"learning rate: {lr}\\nLoss function: {loss_function}\\nBatch size: {str(batch_size)}\\nPredicted feature: fco2_pre\\nTest mse: unknown\",\n",
    "            wrap=True, horizontalalignment='center', fontsize=10, color='black')\n",
    "\n",
    "timestamp = datetime.now().strftime('%Y-%m-%d_%H-%M')\n",
    "path = '../plots/cnn/' + timestamp + '_training_validation_loss.png'\n",
    "plt.savefig(path, format='png', dpi=300)\n",
    "plt.show()  "
   ]
  }
 ],
 "metadata": {
  "kernelspec": {
   "display_name": "env",
   "language": "python",
   "name": "python3"
  },
  "language_info": {
   "codemirror_mode": {
    "name": "ipython",
    "version": 3
   },
   "file_extension": ".py",
   "mimetype": "text/x-python",
   "name": "python",
   "nbconvert_exporter": "python",
   "pygments_lexer": "ipython3",
   "version": "3.11.10"
  }
 },
 "nbformat": 4,
 "nbformat_minor": 2
}
