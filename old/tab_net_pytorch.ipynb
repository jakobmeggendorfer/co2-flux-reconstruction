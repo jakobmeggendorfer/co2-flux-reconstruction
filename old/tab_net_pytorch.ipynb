{
 "cells": [
  {
   "cell_type": "code",
   "execution_count": 3,
   "id": "9023f5d6",
   "metadata": {},
   "outputs": [],
   "source": [
    "# TabNet regression for estimating ocean CO2 flux from global tabular data (PyTorch TabNet Version)\n",
    "import os\n",
    "import glob\n",
    "import pickle\n",
    "import numpy as np\n",
    "import pandas as pd\n",
    "from sklearn.model_selection import train_test_split\n",
    "from sklearn.metrics import mean_squared_error, r2_score\n",
    "from pytorch_tabnet.tab_model import TabNetRegressor\n",
    "from sklearn.preprocessing import StandardScaler\n",
    "import torch\n"
   ]
  },
  {
   "cell_type": "code",
   "execution_count": 4,
   "id": "f979a8c9",
   "metadata": {},
   "outputs": [],
   "source": [
    "# ---------------------------\n",
    "# Load and concatenate data\n",
    "# ---------------------------\n",
    "\n",
    "data_files = sorted(glob.glob(\"../../data/*_df.pkl\"))  # e.g., ./data/2009_df.pkl to ./data/2018_df.pkl\n",
    "all_data = []\n",
    "\n",
    "for file in data_files:\n",
    "    year = int(os.path.basename(file).split('_')[0])\n",
    "    with open(file, 'rb') as f:\n",
    "        df = pickle.load(f)\n",
    "        df['year'] = year\n",
    "        if 'time_counter' in df.columns:\n",
    "            df[\"month\"] = df[\"time_counter\"].apply(lambda x: x.month)\n",
    "        all_data.append(df)\n",
    "\n",
    "data = pd.concat(all_data, ignore_index=True)"
   ]
  },
  {
   "cell_type": "code",
   "execution_count": 5,
   "id": "90b59876",
   "metadata": {},
   "outputs": [],
   "source": [
    "# ---------------------------\n",
    "# Feature and target columns\n",
    "# ---------------------------\n",
    "\n",
    "features = [\n",
    "    'SST', 'SAL', 'ice_frac', 'mixed_layer_depth', 'heat_flux_down',\n",
    "    'water_flux_up', 'stress_X', 'stress_Y', 'currents_X', 'currents_Y',\n",
    "    'month', 'tmask', 'year', 'nav_lat', 'nav_lon'\n",
    "]\n",
    "target = 'co2flux'\n",
    "\n",
    "# Drop NaNs (or you can impute if preferred)\n",
    "data = data.dropna(subset=features + [target])\n",
    "\n",
    "X = data[features].values\n",
    "y = data[target].values.reshape(-1, 1)"
   ]
  },
  {
   "cell_type": "code",
   "execution_count": null,
   "id": "f2489e07",
   "metadata": {},
   "outputs": [],
   "source": [
    "# ---------------------------\n",
    "# Train/test split & scaling\n",
    "# ---------------------------\n",
    "\n",
    "X_train, X_test, y_train, y_test = train_test_split(X, y, test_size=0.2, random_state=42)\n",
    "\n",
    "scaler_x = StandardScaler()\n",
    "scaler_y = StandardScaler()\n",
    "\n",
    "X_train_scaled = scaler_x.fit_transform(X_train)\n",
    "X_test_scaled = scaler_x.transform(X_test)\n",
    "\n",
    "y_train_scaled = scaler_y.fit_transform(y_train)\n",
    "y_test_scaled = scaler_y.transform(y_test)"
   ]
  },
  {
   "cell_type": "code",
   "execution_count": null,
   "id": "4e784aa8",
   "metadata": {},
   "outputs": [],
   "source": [
    "# ---------------------------\n",
    "# Train TabNet Regressor\n",
    "# ---------------------------\n",
    "\n",
    "regressor = TabNetRegressor(verbose=1)\n",
    "\n",
    "regressor.fit(\n",
    "    X_train_scaled, y_train_scaled,\n",
    "    eval_set=[(X_test_scaled, y_test_scaled)],\n",
    "    eval_metric=['rmse'],\n",
    "    max_epochs=100,\n",
    "    patience=10,\n",
    "    batch_size=1024,\n",
    "    virtual_batch_size=128\n",
    ")"
   ]
  },
  {
   "cell_type": "code",
   "execution_count": null,
   "id": "37f80675",
   "metadata": {},
   "outputs": [],
   "source": [
    "# ---------------------------\n",
    "# Evaluate model\n",
    "# ---------------------------\n",
    "\n",
    "y_pred_scaled = regressor.predict(X_test_scaled)\n",
    "y_pred = scaler_y.inverse_transform(y_pred_scaled)\n",
    "\n",
    "rmse = np.sqrt(mean_squared_error(y_test, y_pred))\n",
    "r2 = r2_score(y_test, y_pred)\n",
    "\n",
    "print(f\"Test RMSE: {rmse:.3f}\")\n",
    "print(f\"Test R^2: {r2:.3f}\")\n",
    "\n",
    "# Optionally: Save model\n",
    "# regressor.save_model('tabnet_co2flux_model')"
   ]
  }
 ],
 "metadata": {
  "kernelspec": {
   "display_name": "env",
   "language": "python",
   "name": "python3"
  },
  "language_info": {
   "codemirror_mode": {
    "name": "ipython",
    "version": 3
   },
   "file_extension": ".py",
   "mimetype": "text/x-python",
   "name": "python",
   "nbconvert_exporter": "python",
   "pygments_lexer": "ipython3",
   "version": "3.11.10"
  }
 },
 "nbformat": 4,
 "nbformat_minor": 5
}
