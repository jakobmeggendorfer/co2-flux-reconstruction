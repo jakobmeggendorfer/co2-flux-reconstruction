{
 "cells": [
  {
   "cell_type": "code",
   "execution_count": 2,
   "metadata": {},
   "outputs": [],
   "source": [
    "import pandas as pd\n",
    "from sklearn.preprocessing import MinMaxScaler\n",
    "import os\n",
    "from utils.global_co2 import getGlobalCo2ForYear"
   ]
  },
  {
   "cell_type": "code",
   "execution_count": 3,
   "metadata": {},
   "outputs": [
    {
     "name": "stdout",
     "output_type": "stream",
     "text": [
      "2000\n",
      "2001\n",
      "2002\n",
      "2003\n",
      "2004\n",
      "2005\n",
      "2006\n",
      "2007\n",
      "2008\n",
      "2009\n",
      "2010\n",
      "2011\n",
      "2012\n",
      "2013\n",
      "2014\n",
      "2015\n",
      "2016\n",
      "2017\n",
      "2018\n"
     ]
    },
    {
     "name": "stderr",
     "output_type": "stream",
     "text": [
      "/var/folders/ns/4sxfm4t95836d2h_1wgqvzdh0000gn/T/ipykernel_60940/2450738473.py:32: SettingWithCopyWarning: \n",
      "A value is trying to be set on a copy of a slice from a DataFrame.\n",
      "Try using .loc[row_indexer,col_indexer] = value instead\n",
      "\n",
      "See the caveats in the documentation: https://pandas.pydata.org/pandas-docs/stable/user_guide/indexing.html#returning-a-view-versus-a-copy\n",
      "  training_data[columns_to_scale] = scaler.fit_transform(training_data[columns_to_scale])\n",
      "/var/folders/ns/4sxfm4t95836d2h_1wgqvzdh0000gn/T/ipykernel_60940/2450738473.py:33: SettingWithCopyWarning: \n",
      "A value is trying to be set on a copy of a slice from a DataFrame.\n",
      "Try using .loc[row_indexer,col_indexer] = value instead\n",
      "\n",
      "See the caveats in the documentation: https://pandas.pydata.org/pandas-docs/stable/user_guide/indexing.html#returning-a-view-versus-a-copy\n",
      "  test_data[columns_to_scale] = scaler.transform(test_data[columns_to_scale])\n"
     ]
    }
   ],
   "source": [
    "folder_path = \"../../../../../../../Volumes/T7 Shield/exp_1\"\n",
    "data = pd.DataFrame()\n",
    "\n",
    "for year in range(2000, 2019):\n",
    "    print(year)\n",
    "    file = os.path.join(folder_path, f\"ORCA025.L46.LIM2vp.CFCSF6.MOPS.JRA.LP04-KLP002.hind_{year}_df.pkl\")\n",
    "    year_data = pd.read_pickle(file)\n",
    "    year_data = year_data[year_data['tmask'] == 1]\n",
    "    year_data['month'] = year_data['time_counter'].apply(lambda x: x.month)\n",
    "    year_data['year'] = year\n",
    "    year_data['global_co2'] = getGlobalCo2ForYear(year)\n",
    "    data = pd.concat([data,year_data], ignore_index=True)\n",
    "\n",
    "columns_of_interest = ['SST','SAL','ice_frac','mixed_layer_depth','heat_flux_down','water_flux_up','stress_X','stress_Y','currents_X','currents_Y','nav_lat','nav_lon','month','year','global_co2','co2flux','fco2','co2flux_pre','fco2_pre']\n",
    "columns_to_scale = ['SST','SAL','ice_frac','mixed_layer_depth','heat_flux_down','water_flux_up','stress_X','stress_Y','currents_X','currents_Y','nav_lat','nav_lon','month','year','global_co2']\n",
    "\n",
    "# reomove unnecessary columns\n",
    "data = data[columns_of_interest]\n",
    "data['nav_lat_not_scaled'] = data['nav_lat']\n",
    "data['nav_lon_not_scaled'] = data['nav_lon']\n",
    "\n",
    "# select May 2017 as test data\n",
    "test_data = data[(data['month'] == 5) & (data['year'] == 2017)]\n",
    "\n",
    "# select everything except 2017 as training data\n",
    "training_data =  data[(data['year'] != 2017)]\n",
    "\n",
    "# Initialize MinMaxScaler\n",
    "scaler = MinMaxScaler()\n",
    "\n",
    "# Apply normalization\n",
    "training_data[columns_to_scale] = scaler.fit_transform(training_data[columns_to_scale])\n",
    "test_data[columns_to_scale] = scaler.transform(test_data[columns_to_scale])\n",
    "\n",
    "# shuffle data and take three different sets of samples\n",
    "training_data = training_data.sample(frac=1)\n",
    "training_data20M = training_data[:20000000]\n",
    "\n",
    "# Store as pickle files\n",
    "training_data20M.to_pickle(\"../training-data/20M_normalized_samples.pkl\")\n",
    "test_data.to_pickle(\"../training-data/normalized_test_data_may_2017.pkl\")"
   ]
  }
 ],
 "metadata": {
  "kernelspec": {
   "display_name": "env",
   "language": "python",
   "name": "python3"
  },
  "language_info": {
   "codemirror_mode": {
    "name": "ipython",
    "version": 3
   },
   "file_extension": ".py",
   "mimetype": "text/x-python",
   "name": "python",
   "nbconvert_exporter": "python",
   "pygments_lexer": "ipython3",
   "version": "3.11.10"
  }
 },
 "nbformat": 4,
 "nbformat_minor": 2
}
