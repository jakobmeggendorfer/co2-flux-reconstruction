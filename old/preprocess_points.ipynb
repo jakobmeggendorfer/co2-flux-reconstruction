{
 "cells": [
  {
   "cell_type": "code",
   "execution_count": 7,
   "metadata": {},
   "outputs": [],
   "source": [
    "import os\n",
    "import pandas as pd\n",
    "import numpy as np\n",
    "from sklearn.preprocessing import MinMaxScaler\n",
    "import joblib\n",
    "from utils.global_co2 import getGlobalCo2ForYear"
   ]
  },
  {
   "cell_type": "code",
   "execution_count": 8,
   "metadata": {},
   "outputs": [],
   "source": [
    "folder_path = \"../../../../../../../Volumes/T7 Shield/exp_1\"\n",
    "output_path = \"../../../../../../../Volumes/T7 Shield/exp_1_point_data\"\n",
    "\n",
    "features = ['SST', 'SAL', 'ice_frac', 'mixed_layer_depth', 'heat_flux_down', \n",
    "            'water_flux_up', 'stress_X', 'stress_Y', 'currents_X', 'currents_Y', 'month','tmask','year','nav_lat','nav_lon','global_co2']\n",
    "targets = ['fco2','fco2_pre','co2flux','co2flux_pre','nav_lat_unscaled','nav_lon_unscaled']\n",
    "\n",
    "scaler = MinMaxScaler()\n",
    "\n",
    "def setUpScaler():\n",
    "    file_1959 = os.path.join(folder_path, f\"ORCA025.L46.LIM2vp.CFCSF6.MOPS.JRA.LP04-KLP002.hind_1959_df.pkl\")\n",
    "    file_2018 = os.path.join(folder_path, f\"ORCA025.L46.LIM2vp.CFCSF6.MOPS.JRA.LP04-KLP002.hind_2018_df.pkl\")\n",
    "    data_1959 = pd.read_pickle(file_1959)\n",
    "    data_2018 = pd.read_pickle(file_2018)\n",
    "    data_1959[\"year\"] = 1959\n",
    "    data_2018[\"year\"] = 2018\n",
    "    data_1959['global_co2'] = getGlobalCo2ForYear(1959)\n",
    "    data_2018['global_co2'] = getGlobalCo2ForYear(2018)\n",
    "\n",
    "    df = pd.concat([data_1959,data_2018], ignore_index=True)\n",
    "    df[\"month\"] = df[\"time_counter\"].apply(lambda x: x.month)\n",
    "    \n",
    "    scaler.fit(df[features])\n",
    "    joblib.dump(scaler, 'point_scaler.pkl')\n",
    "\n",
    "\n",
    "def preprocess_and_store(year):\n",
    "    input_file = os.path.join(folder_path, f\"ORCA025.L46.LIM2vp.CFCSF6.MOPS.JRA.LP04-KLP002.hind_{year}_df.pkl\")\n",
    "    df = pd.read_pickle(input_file)\n",
    "\n",
    "    # just use ocean points here\n",
    "    df = df[df['tmask'] == 1]\n",
    "    df[\"year\"] = year\n",
    "    df['global_co2'] = getGlobalCo2ForYear(year)\n",
    "    df[\"month\"] = df[\"time_counter\"].dt.month\n",
    "    df[\"nav_lat_unscaled\"] =  df[\"nav_lat\"]\n",
    "    df[\"nav_lon_unscaled\"] =  df[\"nav_lon\"]\n",
    "    df = df[features+targets]\n",
    "\n",
    "    scaler_loaded = joblib.load('point_scaler.pkl')\n",
    "    df[features] = scaler_loaded.transform(df[features])\n",
    "\n",
    "    np.save(os.path.join(output_path, f\"{year}_features.npy\"),  df[features].to_numpy())\n",
    "    np.save(os.path.join(output_path, f\"{year}_targets.npy\"),  df[targets].to_numpy())\n",
    "\n",
    "\n",
    "\n",
    "\n"
   ]
  },
  {
   "cell_type": "code",
   "execution_count": 10,
   "metadata": {},
   "outputs": [
    {
     "name": "stdout",
     "output_type": "stream",
     "text": [
      "2000\n",
      "2001\n",
      "2002\n",
      "2003\n",
      "2004\n",
      "2005\n",
      "2006\n",
      "2007\n",
      "2008\n",
      "2009\n",
      "2010\n",
      "2011\n",
      "2012\n",
      "2013\n",
      "2014\n",
      "2015\n",
      "2016\n",
      "2017\n"
     ]
    }
   ],
   "source": [
    "# setUpScaler()\n",
    "for year in range(2000, 2018):\n",
    "    print(year)\n",
    "    preprocess_and_store(year)"
   ]
  }
 ],
 "metadata": {
  "kernelspec": {
   "display_name": "env",
   "language": "python",
   "name": "python3"
  },
  "language_info": {
   "codemirror_mode": {
    "name": "ipython",
    "version": 3
   },
   "file_extension": ".py",
   "mimetype": "text/x-python",
   "name": "python",
   "nbconvert_exporter": "python",
   "pygments_lexer": "ipython3",
   "version": "3.11.10"
  }
 },
 "nbformat": 4,
 "nbformat_minor": 2
}
